{
 "cells": [
  {
   "cell_type": "markdown",
   "metadata": {},
   "source": [
    "**Supplementary code and notes**"
   ]
  },
  {
   "cell_type": "code",
   "execution_count": 1,
   "metadata": {},
   "outputs": [
    {
     "name": "stdout",
     "output_type": "stream",
     "text": [
      "\n",
      "Welcome to PyPhi!\n",
      "\n",
      "If you use PyPhi in your research, please cite the paper:\n",
      "\n",
      "  Mayner WGP, Marshall W, Albantakis L, Findlay G, Marchman R, Tononi G.\n",
      "  (2018). PyPhi: A toolbox for integrated information theory.\n",
      "  PLOS Computational Biology 14(7): e1006343.\n",
      "  https://doi.org/10.1371/journal.pcbi.1006343\n",
      "\n",
      "Documentation is available online (or with the built-in `help()` function):\n",
      "  https://pyphi.readthedocs.io\n",
      "\n",
      "To report issues, please use the issue tracker on the GitHub repository:\n",
      "  https://github.com/wmayner/pyphi\n",
      "\n",
      "For general discussion, you are welcome to join the pyphi-users group:\n",
      "  https://groups.google.com/forum/#!forum/pyphi-users\n",
      "\n",
      "To suppress this message, either:\n",
      "  - Set `WELCOME_OFF: true` in your `pyphi_config.yml` file, or\n",
      "  - Set the environment variable PYPHI_WELCOME_OFF to any value in your shell:\n",
      "        export PYPHI_WELCOME_OFF='yes'\n",
      "\n"
     ]
    }
   ],
   "source": [
    "import numpy as np\n",
    "import matplotlib.pyplot as plt\n",
    "import sys\n",
    "import random\n",
    "import pickle\n",
    "import math\n",
    "from operator import add\n",
    "import torch\n",
    "import torch.nn as nn\n",
    "import pyphi\n",
    "np.set_printoptions(threshold=sys.maxsize)"
   ]
  },
  {
   "cell_type": "code",
   "execution_count": 2,
   "metadata": {},
   "outputs": [],
   "source": [
    "# NOTE: 'timestep' variable used to denote the timestep in which the perturbation will occur, and 'n' is the number of...\n",
    "#... iterations performed by the ECA. \n",
    "\n",
    "def apply_rule(rule_function, n, perturbation_boolean, timestep, cell):\n",
    "    ini_state = initial_state(2*n + 1)\n",
    "    rv = []\n",
    "    rv.append(ini_state)\n",
    "    if perturbation_boolean == True:\n",
    "        for i in range(1, n):\n",
    "            if i == timestep:\n",
    "                timestep_update = rule_function(ini_state)\n",
    "                if timestep_update[cell] == 0:\n",
    "                    timestep_update[cell] = 1\n",
    "                else:\n",
    "                    timestep_update[cell] = 0\n",
    "                    \n",
    "                rv.append(timestep_update)\n",
    "                ini_state = timestep_update\n",
    "                \n",
    "            else:\n",
    "                timestep_update = rule_function(ini_state)\n",
    "                rv.append(timestep_update)\n",
    "                ini_state = timestep_update\n",
    "          \n",
    "    else:\n",
    "        for i in range(1, n):\n",
    "            timestep_update = rule_function(ini_state)\n",
    "            rv.append(timestep_update)\n",
    "            ini_state = timestep_update\n",
    "        \n",
    "    return np.array(rv)"
   ]
  },
  {
   "cell_type": "code",
   "execution_count": 3,
   "metadata": {},
   "outputs": [],
   "source": [
    "def plot_for_average(prob_dist, x_axis, title_string, x_string, y_string):\n",
    "\n",
    "    plt.style.use('ggplot')\n",
    "    x = x_axis\n",
    "    x_pos = [i for i, _ in enumerate(x)]\n",
    "    y = prob_dist\n",
    "\n",
    "    fig = plt.figure(figsize=(12,4))\n",
    "    plt.bar(x_pos, y, color='green')\n",
    "    plt.xlabel(x_string)\n",
    "    plt.ylabel(y_string)\n",
    "    plt.title(title_string)\n",
    "\n",
    "    plt.xticks(x_pos, x)\n",
    "\n",
    "    return plt.show()"
   ]
  },
  {
   "cell_type": "code",
   "execution_count": 4,
   "metadata": {},
   "outputs": [],
   "source": [
    "def initial_state(width):\n",
    "    initial = np.zeros((1, width), dtype=int)\n",
    "    if width % 2 == 0:\n",
    "        initial = np.insert(initial, int(width / 2), values=0, axis=1)\n",
    "        initial[0, int(width / 2)] = 1\n",
    "        return initial[0]\n",
    "    else:\n",
    "        initial[0, int(width / 2)] = 1\n",
    "        return initial[0]"
   ]
  },
  {
   "cell_type": "code",
   "execution_count": 5,
   "metadata": {},
   "outputs": [],
   "source": [
    "def make_rule(integer):\n",
    "    binary = str(bin(integer)[2:])\n",
    "    \n",
    "    if len(binary) < 8:\n",
    "        binary = binary.zfill(8)\n",
    "    \n",
    "    def rule_function(array):\n",
    "        row1 = array\n",
    "        next_row = array.copy()\n",
    "        for x in range(1, len(row1)-1):\n",
    "                \n",
    "            # Given cell state is \"off\", then update given the neighbors like - \n",
    "            if row1[x] == 0:\n",
    "                if (row1[x-1] == 0) and (row1[x+1] == 0):\n",
    "                    next_row[x] = int(binary[7])\n",
    "\n",
    "                if (row1[x-1] == 0) and (row1[x+1] == 1):\n",
    "                    next_row[x] = int(binary[6])\n",
    "\n",
    "                if (row1[x-1] == 1) and (row1[x+1] == 0):\n",
    "                    next_row[x] = int(binary[3])\n",
    "\n",
    "                if (row1[x-1] == 1) and (row1[x+1] == 1):\n",
    "                    next_row[x] = int(binary[2])\n",
    "\n",
    "            # Given cell state is \"on\", then update given the neighbors like -   \n",
    "            else:\n",
    "                if (row1[x-1] == 0) and (row1[x+1] == 0):\n",
    "                    next_row[x] = int(binary[5])\n",
    "\n",
    "                if (row1[x-1] == 0) and (row1[x+1] == 1):\n",
    "                    next_row[x] = int(binary[4])\n",
    "\n",
    "                if (row1[x-1] == 1) and (row1[x+1] == 0):\n",
    "                    next_row[x] = int(binary[1])\n",
    "\n",
    "                if (row1[x-1] == 1) and (row1[x+1] == 1):\n",
    "                    next_row[x] = int(binary[0])\n",
    "\n",
    "        return np.array(next_row)\n",
    "\n",
    "    return rule_function"
   ]
  },
  {
   "cell_type": "code",
   "execution_count": 6,
   "metadata": {},
   "outputs": [],
   "source": [
    "rule_30 = make_rule(30)"
   ]
  },
  {
   "cell_type": "markdown",
   "metadata": {},
   "source": [
    "# Transition Probability Matrix"
   ]
  },
  {
   "cell_type": "code",
   "execution_count": 7,
   "metadata": {},
   "outputs": [],
   "source": [
    "def TPM(rule_function, number_of_cells):\n",
    "    \n",
    "    maximum_range = 2**(number_of_cells+2)\n",
    "    TPM_matrix = []\n",
    "    \n",
    "    for i in range(maximum_range):\n",
    "        \n",
    "        binary = bin(i)[2:]\n",
    "        binary = binary.zfill(number_of_cells+2)\n",
    "        \n",
    "        state_iter_array = [int(i) for i in str(binary)]\n",
    "        next_timestep = rule_function(state_iter_array)\n",
    "        \n",
    "        \n",
    "        TPM_matrix.append(next_timestep)    \n",
    "        \n",
    "    return TPM_matrix"
   ]
  },
  {
   "cell_type": "markdown",
   "metadata": {},
   "source": [
    "Below is the transition probability matrix for three cells with open boundary conditions. Since we are using open boundary conditions, **not toroidal or periodic boundary conditions**, we need to expand the state size to an array of size 5 cells. We do this because the transition probability matrix records all the transition probabilities, and in order for the transition to abide by the rules of elementary cellular automata, there needs to be cells to the left and right of the cell in question. So for example, to record all the transitions that are possible for the three cell mechanism, we must first realize that each unique 3-cell state has 4 possible subconfigurations, i.e one for each of the possible combinations that the first and last cell in a state array can take. "
   ]
  },
  {
   "cell_type": "code",
   "execution_count": 8,
   "metadata": {
    "scrolled": true
   },
   "outputs": [],
   "source": [
    "TPM_matrix = TPM(rule_30, 3)"
   ]
  },
  {
   "cell_type": "markdown",
   "metadata": {},
   "source": [
    "# Cause Repertoire"
   ]
  },
  {
   "cell_type": "markdown",
   "metadata": {},
   "source": [
    "We will label the middle three cells in the 5-cell array (again, need to analyze the cause-effect repertoire of the open boundary condition ECA) *A*, *B*, and *C*. The first cell shall be labeled $\\gamma$ and the last cell shall be labeled $\\delta$. \n",
    "\n",
    "The cause repetoire of a Mechanism $M_t$ in its current state $m_t$ can be obtained from the TPM using\n",
    "Bayes’ rule. For example, suppose we want to consider the cause-repertoire $p_{cause}(\\gamma AB_{t-1}|A_{t} = 1)$, we can use Bayes' rule, given below..."
   ]
  },
  {
   "cell_type": "markdown",
   "metadata": {},
   "source": [
    "$p_{cause}(\\gamma AB_{t-1}|A_{t} = 1)$ = $\\frac{p_{cause}(A_{t} = 1|\\gamma AB_{t-1}) \\cdot p_{uc}(\\gamma AB_{t-1})}{p(A_t = 1)}$"
   ]
  },
  {
   "cell_type": "code",
   "execution_count": 9,
   "metadata": {},
   "outputs": [],
   "source": [
    "#NOTE: character_string_value refers to the following conversion that must be done, 'a' maps to 1, 'b' maps to 2, 'c' maps to 3, etc.\n",
    "\n",
    "def cause_repertoire_single_order(TPM_matrix, character_string_value, value_binary):\n",
    "\n",
    "    x_axis_label_array = []\n",
    "    cause_repertoire_distribution = []\n",
    "    numerator = 0\n",
    "    denominator = 0\n",
    "    \n",
    "    for i in range(len(TPM_matrix)):\n",
    "        x = 0\n",
    "        denominator += 1\n",
    "        binary = bin(i)[2:]\n",
    "        binary = binary.zfill(len(TPM_matrix[0]))\n",
    "        \n",
    "        if TPM_matrix[i][character_string_value] == value_binary:\n",
    "            \n",
    "            numerator += 1\n",
    "            \n",
    "            for item in x_axis_label_array:\n",
    "                if item == binary[character_string_value-1:character_string_value+2]:\n",
    "                    x = \"stop\"\n",
    "                    break\n",
    "            \n",
    "            if x == \"stop\":\n",
    "                continue\n",
    "            else:\n",
    "                cause = 1 * (1/8)\n",
    "                cause_repertoire_distribution.append(cause)\n",
    "                x_axis_label_array.append(binary[character_string_value-1:character_string_value+2])\n",
    "                \n",
    "        else:\n",
    "            \n",
    "            for item in x_axis_label_array:\n",
    "                if item == binary[character_string_value-1:character_string_value+2]:\n",
    "                    x = \"stop\"\n",
    "                    break\n",
    "            \n",
    "            if x == \"stop\":\n",
    "                continue\n",
    "                \n",
    "            else:\n",
    "\n",
    "                cause = 0 * (1/8)\n",
    "                cause_repertoire_distribution.append(cause)\n",
    "                x_axis_label_array.append(binary[character_string_value-1:character_string_value+2])\n",
    "    \n",
    "    cause_repertoire_distribution = np.array(cause_repertoire_distribution) / (numerator/denominator)\n",
    "            \n",
    "    return cause_repertoire_distribution, x_axis_label_array\n",
    "    \n",
    "    \n",
    "    "
   ]
  },
  {
   "cell_type": "code",
   "execution_count": 10,
   "metadata": {},
   "outputs": [],
   "source": [
    "cause_repertoire_distribution, x_axis_labels = cause_repertoire_single_order(TPM_matrix, 1, 1)"
   ]
  },
  {
   "cell_type": "code",
   "execution_count": 11,
   "metadata": {},
   "outputs": [
    {
     "data": {
      "image/png": "[encoded data removed]",
      "text/plain": [
       "<Figure size 864x288 with 1 Axes>"
      ]
     },
     "metadata": {},
     "output_type": "display_data"
    }
   ],
   "source": [
    "plot_for_average(cause_repertoire_distribution, x_axis_labels, \"Cause-Repertoire $p_{cause}(\\gamma AB_{t-1}|A_{t} = 1)$ For Rule 30\", \"$\\gamma AB_{t-1}$\", \"Probability\")"
   ]
  },
  {
   "cell_type": "markdown",
   "metadata": {},
   "source": [
    "# Effect Repertoire"
   ]
  },
  {
   "cell_type": "markdown",
   "metadata": {},
   "source": [
    "Consider the effect repertoire $p_{ef}(\\gamma AB_{t+1}|A_{t} = 1)$. This is just equal to the expansion below..."
   ]
  },
  {
   "cell_type": "markdown",
   "metadata": {},
   "source": [
    "$p_{ef}(\\gamma AB_{t+1}|A_{t} = 1)$ = $p_{ef}(\\gamma_{t+1}| A_{t} = 1) \\cdot p_{ef}(A_{t+1}| A_{t} = 1) \\cdot p_{ef}(B_{t+1}| A_{t} = 1)$"
   ]
  },
  {
   "cell_type": "code",
   "execution_count": 12,
   "metadata": {},
   "outputs": [],
   "source": [
    "def effect_repertoire_single_order(TPM_matrix, character_string_value, value_binary):\n",
    "    \n",
    "    effect_repertoire_distribution = []\n",
    "    x_axis_label_array = []\n",
    "    hold_array = []\n",
    "    \n",
    "    denominator = 0\n",
    "    \n",
    "    for i in range(len(TPM_matrix)):\n",
    "        \n",
    "        binary = bin(i)[2:]\n",
    "        binary = binary.zfill(len(TPM_matrix[0]))\n",
    "        \n",
    "        if binary[character_string_value] == str(value_binary):\n",
    "            \n",
    "            denominator += 1\n",
    "            sub_array = list(TPM_matrix[i][character_string_value-1:character_string_value+2])\n",
    "            \n",
    "            hold_array.append(sub_array)\n",
    "            \n",
    "    for i in range(8):\n",
    "        numerator = 0\n",
    "        \n",
    "        binary = bin(i)[2:]\n",
    "        binary = binary.zfill(3)\n",
    "        \n",
    "        x_axis_label_array.append(binary)\n",
    "        check = [int(i) for i in str(binary)]\n",
    "        \n",
    "        for item in hold_array:\n",
    "            if item == check:\n",
    "                numerator += 1\n",
    "        \n",
    "        effect_repertoire_distribution.append(numerator/denominator)\n",
    "    \n",
    "    return effect_repertoire_distribution, x_axis_label_array"
   ]
  },
  {
   "cell_type": "code",
   "execution_count": 13,
   "metadata": {},
   "outputs": [],
   "source": [
    "effect_repertoire_distribution, x_axis_labels = effect_repertoire_single_order(TPM_matrix, 1, 1)"
   ]
  },
  {
   "cell_type": "code",
   "execution_count": 14,
   "metadata": {},
   "outputs": [
    {
     "data": {
      "image/png": "[encoded data removed]",
      "text/plain": [
       "<Figure size 864x288 with 1 Axes>"
      ]
     },
     "metadata": {},
     "output_type": "display_data"
    }
   ],
   "source": [
    "plot_for_average(effect_repertoire_distribution, x_axis_labels, \"Effect-Repertoire $p_{ef}(\\gamma AB_{t+1}|A_{t} = 1)$ For Rule 30\", \"$\\gamma AB_{t+1}$\", \"Probability\")"
   ]
  },
  {
   "cell_type": "code",
   "execution_count": 15,
   "metadata": {
    "scrolled": true
   },
   "outputs": [
    {
     "name": "stdout",
     "output_type": "stream",
     "text": [
      "1.0\n"
     ]
    }
   ],
   "source": [
    "print(sum(effect_repertoire_distribution))"
   ]
  },
  {
   "cell_type": "markdown",
   "metadata": {},
   "source": [
    "This concludes gathering the IIT related *information* measures, now we have to *integrate* the information by taking second order irreducible mechanisms. Once we have these post-first order mechanisms, we can start investigating the emergence of *concepts* and see how it relates to emergent structures in ECA. "
   ]
  },
  {
   "cell_type": "code",
   "execution_count": 16,
   "metadata": {},
   "outputs": [],
   "source": [
    "cause_repertoire_distribution = [0.125 for i in range(8)]"
   ]
  },
  {
   "cell_type": "code",
   "execution_count": 17,
   "metadata": {},
   "outputs": [
    {
     "data": {
      "image/png": "[encoded data removed]",
      "text/plain": [
       "<Figure size 864x288 with 1 Axes>"
      ]
     },
     "metadata": {},
     "output_type": "display_data"
    }
   ],
   "source": [
    "plot_for_average(cause_repertoire_distribution, x_axis_labels, \"Unconstrained Cause-Repertoire $p_{cause}(\\gamma AB_{t-1})$ For Rule 30\", \"$\\gamma AB_{t-1}$\", \"Probability\")"
   ]
  },
  {
   "cell_type": "markdown",
   "metadata": {},
   "source": [
    "# Higher-Order Irreducible Cause-Effect Repertoires"
   ]
  },
  {
   "cell_type": "markdown",
   "metadata": {},
   "source": [
    "## Higher-Order Cause-Repertoire"
   ]
  },
  {
   "cell_type": "code",
   "execution_count": 18,
   "metadata": {},
   "outputs": [],
   "source": [
    "def cause_repertoire_higher_order(TPM_matrix, start_character_string_value, end_character_string_value, binary_values_string):\n",
    "    \n",
    "    cause_repertoire_distribution_list = []\n",
    "    x_axis_labels_list = []\n",
    "    \n",
    "    for i in range(start_character_string_value, end_character_string_value+1):\n",
    "        \n",
    "        value = int(binary_values_string[i-start_character_string_value])\n",
    "        cause_repertoire_distribution, x_axis_labels = cause_repertoire_single_order(TPM_matrix, i, value)\n",
    "        \n",
    "        ####################################################################################33\n",
    "        \n",
    "        if i == start_character_string_value:\n",
    "            for i in range(len(x_axis_labels)):\n",
    "                x_axis_labels[i] = x_axis_labels[i] + '0'\n",
    "                \n",
    "        else:\n",
    "            for i in range(len(x_axis_labels)):\n",
    "                x_axis_labels[i] = '0' + x_axis_labels[i] \n",
    "        \n",
    "        ####################################################################################\n",
    "        \n",
    "        cause_repertoire_distribution_list.append(cause_repertoire_distribution)\n",
    "        x_axis_labels_list.append(x_axis_labels)\n",
    "        \n",
    "    array_fixed = np.zeros(2**4)\n",
    "    x_axis = []\n",
    "    \n",
    "    for i in range(2**4):\n",
    "        binary = bin(i)[2:]\n",
    "        binary = binary.zfill(4)\n",
    "        x_axis.append(binary)\n",
    "        \n",
    "\n",
    "    for i in range(len(x_axis_labels_list)):\n",
    "        for j in range(len(x_axis_labels_list[0])):\n",
    "            binary = x_axis_labels_list[i][j]\n",
    "            integer = int(binary, 2)\n",
    "            \n",
    "            if array_fixed[integer] == 0:\n",
    "                array_fixed[integer] = 1\n",
    "            \n",
    "            array_fixed[integer] = array_fixed[integer] * cause_repertoire_distribution_list[i][j]\n",
    "            \n",
    "            \n",
    "    total = sum(array_fixed)\n",
    "    \n",
    "    \n",
    "    array_fixed = array_fixed/total\n",
    "    \n",
    "    return array_fixed, x_axis"
   ]
  },
  {
   "cell_type": "code",
   "execution_count": 19,
   "metadata": {},
   "outputs": [],
   "source": [
    "cause_repertoire_distribution, x_axis_labels = cause_repertoire_higher_order(TPM_matrix, 1, 2, '11')"
   ]
  },
  {
   "cell_type": "code",
   "execution_count": 20,
   "metadata": {
    "scrolled": true
   },
   "outputs": [
    {
     "data": {
      "image/png": "[encoded data removed]",
      "text/plain": [
       "<Figure size 864x288 with 1 Axes>"
      ]
     },
     "metadata": {},
     "output_type": "display_data"
    }
   ],
   "source": [
    "plot_for_average(cause_repertoire_distribution, x_axis_labels, \"Cause-Repertoire $p_{cause}(\\gamma ABC_{t-1}|AB_{t} = 11)$ For Rule 30\", \"$\\gamma ABC_{t-1}$\", \"Probability\")"
   ]
  },
  {
   "cell_type": "code",
   "execution_count": 21,
   "metadata": {},
   "outputs": [
    {
     "name": "stdout",
     "output_type": "stream",
     "text": [
      "0.9999999999999999\n"
     ]
    }
   ],
   "source": [
    "print(sum(cause_repertoire_distribution))"
   ]
  },
  {
   "cell_type": "markdown",
   "metadata": {},
   "source": [
    "## Higher-Order Effect-Repertoire"
   ]
  },
  {
   "cell_type": "code",
   "execution_count": 22,
   "metadata": {},
   "outputs": [],
   "source": [
    "def effect_repertoire_higher_order(TPM_matrix, start_character_string_value, end_character_string_value, binary_values_string):\n",
    "    \n",
    "    effect_repertoire_distribution = []\n",
    "    x_axis_label_array = []\n",
    "    hold_array = []\n",
    "    \n",
    "    denominator = 0\n",
    "    \n",
    "    for i in range(len(TPM_matrix)):\n",
    "        \n",
    "        binary = bin(i)[2:]\n",
    "        binary = binary.zfill(len(TPM_matrix[0]))\n",
    "        \n",
    "        if binary[start_character_string_value:end_character_string_value+1] == binary_values_string:\n",
    "            \n",
    "            denominator += 1\n",
    "            \n",
    "            sub_array = list(TPM_matrix[i][start_character_string_value-1:end_character_string_value+2])\n",
    "            \n",
    "            hold_array.append(sub_array)\n",
    "            \n",
    "    for i in range(16):\n",
    "        numerator = 0\n",
    "        \n",
    "        binary = bin(i)[2:]\n",
    "        binary = binary.zfill(4)\n",
    "        \n",
    "        x_axis_label_array.append(binary)\n",
    "        check = [int(i) for i in str(binary)]\n",
    "        \n",
    "        for item in hold_array:\n",
    "            if item == check:\n",
    "                numerator += 1\n",
    "        \n",
    "        effect_repertoire_distribution.append(numerator/denominator)\n",
    "    \n",
    "    return effect_repertoire_distribution, x_axis_label_array"
   ]
  },
  {
   "cell_type": "code",
   "execution_count": 23,
   "metadata": {},
   "outputs": [],
   "source": [
    "effect_repertoire_distribution, x_axis_labels = effect_repertoire_higher_order(TPM_matrix, 1, 2, '11')"
   ]
  },
  {
   "cell_type": "code",
   "execution_count": 24,
   "metadata": {
    "scrolled": true
   },
   "outputs": [
    {
     "data": {
      "image/png": "[encoded data removed]",
      "text/plain": [
       "<Figure size 864x288 with 1 Axes>"
      ]
     },
     "metadata": {},
     "output_type": "display_data"
    }
   ],
   "source": [
    "plot_for_average(effect_repertoire_distribution, x_axis_labels, \"Effect-Repertoire $p_{ef}(\\gamma ABC_{t+1}|AB_{t} = 11)$\", \"$\\gamma ABC_{t+1}$\", \"Probability\")"
   ]
  },
  {
   "cell_type": "code",
   "execution_count": 25,
   "metadata": {},
   "outputs": [
    {
     "name": "stdout",
     "output_type": "stream",
     "text": [
      "1.0\n"
     ]
    }
   ],
   "source": [
    "print(sum(effect_repertoire_distribution))"
   ]
  },
  {
   "cell_type": "markdown",
   "metadata": {},
   "source": [
    "# Using PyPhi to Calculate IIT Measures"
   ]
  },
  {
   "cell_type": "markdown",
   "metadata": {},
   "source": [
    "## Existence: Mechanisms in a state having causal power."
   ]
  },
  {
   "cell_type": "code",
   "execution_count": 26,
   "metadata": {},
   "outputs": [],
   "source": [
    "TPM_matrix = TPM(rule_30, 3)"
   ]
  },
  {
   "cell_type": "code",
   "execution_count": 27,
   "metadata": {},
   "outputs": [],
   "source": [
    "cm = np.array([\n",
    "    [0, 0, 0, 0, 0],\n",
    "    [1, 1, 1, 0, 0],\n",
    "    [0, 1, 1, 1, 0],\n",
    "    [0, 0, 1, 1, 1],\n",
    "    [0, 0, 0, 0, 0]\n",
    "])"
   ]
  },
  {
   "cell_type": "code",
   "execution_count": 28,
   "metadata": {},
   "outputs": [],
   "source": [
    "labels = ('$\\gamma$', 'A', 'B', 'C', '$\\delta$')"
   ]
  },
  {
   "cell_type": "markdown",
   "metadata": {},
   "source": [
    "## Information requires selectivity. Start by setting up the subsystem. "
   ]
  },
  {
   "cell_type": "code",
   "execution_count": 29,
   "metadata": {},
   "outputs": [],
   "source": [
    "network = pyphi.Network(TPM_matrix, cm=cm, node_labels=labels)"
   ]
  },
  {
   "cell_type": "code",
   "execution_count": 30,
   "metadata": {},
   "outputs": [],
   "source": [
    "state = (1, 1, 1, 1, 0)\n",
    "subsystem = pyphi.Subsystem(network, state, [1, 2, 3])"
   ]
  },
  {
   "cell_type": "code",
   "execution_count": 31,
   "metadata": {},
   "outputs": [
    {
     "name": "stderr",
     "output_type": "stream",
     "text": [
      "                                                                                                                       \r"
     ]
    },
    {
     "data": {
      "text/plain": [
       "0.0625"
      ]
     },
     "execution_count": 31,
     "metadata": {},
     "output_type": "execute_result"
    }
   ],
   "source": [
    "pyphi.compute.phi(subsystem)"
   ]
  },
  {
   "cell_type": "code",
   "execution_count": 32,
   "metadata": {},
   "outputs": [],
   "source": [
    "A, B, C = subsystem.node_indices"
   ]
  },
  {
   "cell_type": "markdown",
   "metadata": {},
   "source": [
    "## Information: “Differences that make a difference to a system from its own intrinsic perspective.”"
   ]
  },
  {
   "cell_type": "code",
   "execution_count": 33,
   "metadata": {},
   "outputs": [
    {
     "data": {
      "text/plain": [
       "array([[[[[0.  ],\n",
       "          [0.25]],\n",
       "\n",
       "         [[0.25],\n",
       "          [0.  ]]],\n",
       "\n",
       "\n",
       "        [[[0.25],\n",
       "          [0.  ]],\n",
       "\n",
       "         [[0.25],\n",
       "          [0.  ]]]]])"
      ]
     },
     "execution_count": 33,
     "metadata": {},
     "output_type": "execute_result"
    }
   ],
   "source": [
    "subsystem.cause_repertoire((B,), (A, B, C))"
   ]
  },
  {
   "cell_type": "code",
   "execution_count": 34,
   "metadata": {},
   "outputs": [
    {
     "data": {
      "text/plain": [
       "array([[[[[0. ],\n",
       "          [0. ]],\n",
       "\n",
       "         [[0. ],\n",
       "          [0. ]]],\n",
       "\n",
       "\n",
       "        [[[0.5],\n",
       "          [0. ]],\n",
       "\n",
       "         [[0.5],\n",
       "          [0. ]]]]])"
      ]
     },
     "execution_count": 34,
     "metadata": {},
     "output_type": "execute_result"
    }
   ],
   "source": [
    "subsystem.effect_repertoire((B,), (A, B, C))"
   ]
  },
  {
   "cell_type": "code",
   "execution_count": 35,
   "metadata": {},
   "outputs": [
    {
     "data": {
      "text/plain": [
       "0.166668"
      ]
     },
     "execution_count": 35,
     "metadata": {},
     "output_type": "execute_result"
    }
   ],
   "source": [
    "subsystem.cause_info((A,), (A, B, C))"
   ]
  },
  {
   "cell_type": "code",
   "execution_count": 36,
   "metadata": {},
   "outputs": [
    {
     "data": {
      "text/plain": [
       "0.0"
      ]
     },
     "execution_count": 36,
     "metadata": {},
     "output_type": "execute_result"
    }
   ],
   "source": [
    "subsystem.effect_info((A,), (A, B, C))"
   ]
  },
  {
   "cell_type": "code",
   "execution_count": 37,
   "metadata": {},
   "outputs": [
    {
     "data": {
      "text/plain": [
       "0.0"
      ]
     },
     "execution_count": 37,
     "metadata": {},
     "output_type": "execute_result"
    }
   ],
   "source": [
    "subsystem.cause_effect_info((A,), (A, B, C))"
   ]
  },
  {
   "cell_type": "markdown",
   "metadata": {},
   "source": [
    "## A mechanism generates information only if it has both selective causes and selective effects within the system."
   ]
  },
  {
   "cell_type": "code",
   "execution_count": 38,
   "metadata": {},
   "outputs": [
    {
     "data": {
      "text/plain": [
       "False"
      ]
     },
     "execution_count": 38,
     "metadata": {},
     "output_type": "execute_result"
    }
   ],
   "source": [
    "np.array_equal(subsystem.effect_repertoire((B,), (A, B, C)), subsystem.unconstrained_effect_repertoire((A, B, C)))"
   ]
  },
  {
   "cell_type": "markdown",
   "metadata": {},
   "source": [
    "Since the effect repertoire is not the same as the unconstrained effect repertoire, this mechanism has both selective causes and selective effects within the system!"
   ]
  },
  {
   "cell_type": "markdown",
   "metadata": {},
   "source": [
    "## Integrated information: The information generated by the whole that is irreducible to the information generated by its parts."
   ]
  },
  {
   "cell_type": "markdown",
   "metadata": {},
   "source": [
    "A mechanism generates integrated information only if it has both integrated causes and integrated effects."
   ]
  },
  {
   "cell_type": "markdown",
   "metadata": {},
   "source": [
    "## The maximally integrated cause repertoire over the power set of purviews is the “core cause” specified by a mechanism."
   ]
  },
  {
   "cell_type": "code",
   "execution_count": 39,
   "metadata": {},
   "outputs": [
    {
     "data": {
      "text/plain": [
       "0.25"
      ]
     },
     "execution_count": 39,
     "metadata": {},
     "output_type": "execute_result"
    }
   ],
   "source": [
    "mic = subsystem.mic((B, C))\n",
    "mic.phi"
   ]
  },
  {
   "cell_type": "markdown",
   "metadata": {},
   "source": [
    "Similarly, the mie() method returns the “core effect” or maximally-irreducible effect (MIE)."
   ]
  },
  {
   "cell_type": "markdown",
   "metadata": {},
   "source": [
    "## A mechanism that specifies a maximally irreducible cause-effect repertoire."
   ]
  },
  {
   "cell_type": "code",
   "execution_count": 40,
   "metadata": {},
   "outputs": [
    {
     "data": {
      "text/plain": [
       "0.25"
      ]
     },
     "execution_count": 40,
     "metadata": {},
     "output_type": "execute_result"
    }
   ],
   "source": [
    "concept_A = subsystem.concept((B,))\n",
    "concept_A.phi"
   ]
  },
  {
   "cell_type": "markdown",
   "metadata": {},
   "source": [
    "## Information: A conceptual structure C (constellation of concepts) is the set of all concepts generated by a set of elements in a state."
   ]
  },
  {
   "cell_type": "code",
   "execution_count": 41,
   "metadata": {},
   "outputs": [],
   "source": [
    "network = pyphi.Network(TPM_matrix, cm=cm, node_labels=labels)\n",
    "state = (1, 1, 1, 1, 0)\n",
    "subsystem = pyphi.Subsystem(network, state, [1, 2, 3])\n",
    "A, B, C = subsystem.node_indices"
   ]
  },
  {
   "cell_type": "code",
   "execution_count": 42,
   "metadata": {},
   "outputs": [
    {
     "name": "stderr",
     "output_type": "stream",
     "text": [
      "                                                                                                                       \r"
     ]
    }
   ],
   "source": [
    "ces = pyphi.compute.ces(subsystem)"
   ]
  },
  {
   "cell_type": "code",
   "execution_count": 43,
   "metadata": {},
   "outputs": [
    {
     "data": {
      "text/plain": [
       "(['B'], ['C'], ['B', 'C'])"
      ]
     },
     "execution_count": 43,
     "metadata": {},
     "output_type": "execute_result"
    }
   ],
   "source": [
    "ces.labeled_mechanisms"
   ]
  },
  {
   "cell_type": "code",
   "execution_count": 44,
   "metadata": {},
   "outputs": [
    {
     "data": {
      "text/plain": [
       "[0.25, 0.25, 0.25]"
      ]
     },
     "execution_count": 44,
     "metadata": {},
     "output_type": "execute_result"
    }
   ],
   "source": [
    "ces.phis"
   ]
  },
  {
   "cell_type": "code",
   "execution_count": 45,
   "metadata": {},
   "outputs": [
    {
     "data": {
      "text/plain": [
       "0.0"
      ]
     },
     "execution_count": 45,
     "metadata": {},
     "output_type": "execute_result"
    }
   ],
   "source": [
    "subsystem.null_concept.phi"
   ]
  },
  {
   "cell_type": "markdown",
   "metadata": {},
   "source": [
    "## Assessing the conceptual information CI of a conceptual structure (constellation of concepts)."
   ]
  },
  {
   "cell_type": "code",
   "execution_count": 64,
   "metadata": {},
   "outputs": [
    {
     "name": "stdout",
     "output_type": "stream",
     "text": [
      "15\n"
     ]
    }
   ],
   "source": [
    "print(len([0,1,1,1,1,1,1,1,1,1,1,1,1,1,0]))"
   ]
  },
  {
   "cell_type": "code",
   "execution_count": 85,
   "metadata": {},
   "outputs": [
    {
     "name": "stdout",
     "output_type": "stream",
     "text": [
      "15273\n",
      "0011101110101001\n",
      "15282\n",
      "0011101110110010\n",
      "15283\n",
      "0011101110110011\n",
      "15300\n",
      "0011101111000100\n"
     ]
    }
   ],
   "source": [
    "rule_30 = make_rule(30)\n",
    "TPM_matrix = TPM(rule_30, 14)\n",
    "for i in range(len(TPM_matrix)):\n",
    "    if list(TPM_matrix[i][1:15]) == [1, 1, 0, 0, 0, 1, 0, 0, 0, 1, 0, 1, 1, 1]:\n",
    "\n",
    "        print(i)\n",
    "        print(bin(i)[2:].zfill(16))"
   ]
  },
  {
   "cell_type": "code",
   "execution_count": null,
   "metadata": {},
   "outputs": [],
   "source": []
  }
 ],
 "metadata": {
  "kernelspec": {
   "display_name": "Python 3",
   "language": "python",
   "name": "python3"
  },
  "language_info": {
   "codemirror_mode": {
    "name": "ipython",
    "version": 3
   },
   "file_extension": ".py",
   "mimetype": "text/x-python",
   "name": "python",
   "nbconvert_exporter": "python",
   "pygments_lexer": "ipython3",
   "version": "3.7.7"
  }
 },
 "nbformat": 4,
 "nbformat_minor": 4
}
