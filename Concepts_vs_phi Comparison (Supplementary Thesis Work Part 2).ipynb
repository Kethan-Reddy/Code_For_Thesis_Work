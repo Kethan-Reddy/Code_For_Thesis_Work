{
  "nbformat": 4,
  "nbformat_minor": 0,
  "metadata": {
    "colab": {
      "name": "First_Concepts_vs_phi.ipynb",
      "provenance": [],
      "collapsed_sections": []
    },
    "kernelspec": {
      "name": "python3",
      "display_name": "Python 3"
    },
    "language_info": {
      "name": "python"
    }
  },
  "cells": [
    {
      "cell_type": "code",
      "metadata": {
        "colab": {
          "base_uri": "https://localhost:8080/"
        },
        "id": "M7D-NCjomdOO",
        "outputId": "670a16f6-48b9-4e41-a2f8-c7f15d41e40a"
      },
      "source": [
        "!pip install pyphi"
      ],
      "execution_count": 1,
      "outputs": [
        {
          "output_type": "stream",
          "name": "stdout",
          "text": [
            "Requirement already satisfied: pyphi in /usr/local/lib/python3.7/dist-packages (1.2.0)\n",
            "Requirement already satisfied: redis>=2.10.5 in /usr/local/lib/python3.7/dist-packages (from pyphi) (3.5.3)\n",
            "Requirement already satisfied: psutil>=2.1.1 in /usr/local/lib/python3.7/dist-packages (from pyphi) (5.4.8)\n",
            "Requirement already satisfied: pyemd>=0.3.0 in /usr/local/lib/python3.7/dist-packages (from pyphi) (0.5.1)\n",
            "Requirement already satisfied: pyyaml>=3.13 in /usr/local/lib/python3.7/dist-packages (from pyphi) (3.13)\n",
            "Requirement already satisfied: tblib>=1.3.2 in /usr/local/lib/python3.7/dist-packages (from pyphi) (1.7.0)\n",
            "Requirement already satisfied: scipy>=0.13.3 in /usr/local/lib/python3.7/dist-packages (from pyphi) (1.4.1)\n",
            "Requirement already satisfied: joblib>=0.8.0 in /usr/local/lib/python3.7/dist-packages (from pyphi) (1.0.1)\n",
            "Requirement already satisfied: tqdm>=4.20.0 in /usr/local/lib/python3.7/dist-packages (from pyphi) (4.62.0)\n",
            "Requirement already satisfied: decorator>=4.0.0 in /usr/local/lib/python3.7/dist-packages (from pyphi) (4.4.2)\n",
            "Requirement already satisfied: pymongo>=2.7.1 in /usr/local/lib/python3.7/dist-packages (from pyphi) (3.12.0)\n",
            "Requirement already satisfied: numpy>=1.11.0 in /usr/local/lib/python3.7/dist-packages (from pyphi) (1.19.5)\n"
          ]
        }
      ]
    },
    {
      "cell_type": "code",
      "metadata": {
        "colab": {
          "base_uri": "https://localhost:8080/"
        },
        "id": "AaWtNRvkmjdo",
        "outputId": "747421cc-3fc0-47d4-fd29-671e3c862757"
      },
      "source": [
        "import numpy as np\n",
        "import matplotlib.pyplot as plt\n",
        "import sys\n",
        "import random\n",
        "import pickle\n",
        "import math\n",
        "from operator import add\n",
        "import torch\n",
        "import torch.nn as nn\n",
        "import pyphi\n",
        "np.set_printoptions(threshold=sys.maxsize)"
      ],
      "execution_count": 2,
      "outputs": [
        {
          "output_type": "stream",
          "name": "stdout",
          "text": [
            "\n",
            "Welcome to PyPhi!\n",
            "\n",
            "If you use PyPhi in your research, please cite the paper:\n",
            "\n",
            "  Mayner WGP, Marshall W, Albantakis L, Findlay G, Marchman R, Tononi G.\n",
            "  (2018). PyPhi: A toolbox for integrated information theory.\n",
            "  PLOS Computational Biology 14(7): e1006343.\n",
            "  https://doi.org/10.1371/journal.pcbi.1006343\n",
            "\n",
            "Documentation is available online (or with the built-in `help()` function):\n",
            "  https://pyphi.readthedocs.io\n",
            "\n",
            "To report issues, please use the issue tracker on the GitHub repository:\n",
            "  https://github.com/wmayner/pyphi\n",
            "\n",
            "For general discussion, you are welcome to join the pyphi-users group:\n",
            "  https://groups.google.com/forum/#!forum/pyphi-users\n",
            "\n",
            "To suppress this message, either:\n",
            "  - Set `WELCOME_OFF: true` in your `pyphi_config.yml` file, or\n",
            "  - Set the environment variable PYPHI_WELCOME_OFF to any value in your shell:\n",
            "        export PYPHI_WELCOME_OFF='yes'\n",
            "\n"
          ]
        }
      ]
    },
    {
      "cell_type": "code",
      "metadata": {
        "id": "KLdDAnNjmmo4"
      },
      "source": [
        "def make_rule(integer):\n",
        "    binary = str(bin(integer)[2:])\n",
        "    \n",
        "    if len(binary) < 8:\n",
        "        binary = binary.zfill(8)\n",
        "    \n",
        "    def rule_function(array):\n",
        "        row1 = array\n",
        "        next_row = array.copy()\n",
        "        for x in range(1, len(row1)-1):\n",
        "                \n",
        "            # Given cell state is \"off\", then update given the neighbors like - \n",
        "            if row1[x] == 0:\n",
        "                if (row1[x-1] == 0) and (row1[x+1] == 0):\n",
        "                    next_row[x] = int(binary[7])\n",
        "\n",
        "                if (row1[x-1] == 0) and (row1[x+1] == 1):\n",
        "                    next_row[x] = int(binary[6])\n",
        "\n",
        "                if (row1[x-1] == 1) and (row1[x+1] == 0):\n",
        "                    next_row[x] = int(binary[3])\n",
        "\n",
        "                if (row1[x-1] == 1) and (row1[x+1] == 1):\n",
        "                    next_row[x] = int(binary[2])\n",
        "\n",
        "            # Given cell state is \"on\", then update given the neighbors like -   \n",
        "            else:\n",
        "                if (row1[x-1] == 0) and (row1[x+1] == 0):\n",
        "                    next_row[x] = int(binary[5])\n",
        "\n",
        "                if (row1[x-1] == 0) and (row1[x+1] == 1):\n",
        "                    next_row[x] = int(binary[4])\n",
        "\n",
        "                if (row1[x-1] == 1) and (row1[x+1] == 0):\n",
        "                    next_row[x] = int(binary[1])\n",
        "\n",
        "                if (row1[x-1] == 1) and (row1[x+1] == 1):\n",
        "                    next_row[x] = int(binary[0])\n",
        "                    \n",
        "            next_row[0] = next_row[1]\n",
        "            next_row[len(row1)-1] = next_row[len(row1)-2]\n",
        "\n",
        "        return np.array(next_row)\n",
        "\n",
        "    return rule_function"
      ],
      "execution_count": 3,
      "outputs": []
    },
    {
      "cell_type": "code",
      "metadata": {
        "id": "7ID0Bl8_muXp"
      },
      "source": [
        "# NOTE: 'timestep' variable used to denote the timestep in which the perturbation will occur, and 'n' is the number of...\n",
        "#... iterations performed by the ECA. \n",
        "\n",
        "def apply_rule(rule_function, n, perturbation_boolean, timestep, cell):\n",
        "    ini_state = initial_state(2*n + 1)\n",
        "    rv = []\n",
        "    rv.append(ini_state)\n",
        "    if perturbation_boolean == True:\n",
        "        for i in range(1, n):\n",
        "            if i == timestep:\n",
        "                timestep_update = rule_function(ini_state)\n",
        "                if timestep_update[cell] == 0:\n",
        "                    timestep_update[cell] = 1\n",
        "                else:\n",
        "                    timestep_update[cell] = 0\n",
        "                    \n",
        "                rv.append(timestep_update)\n",
        "                ini_state = timestep_update\n",
        "                \n",
        "            else:\n",
        "                timestep_update = rule_function(ini_state)\n",
        "                rv.append(timestep_update)\n",
        "                ini_state = timestep_update\n",
        "          \n",
        "    else:\n",
        "        for i in range(1, n):\n",
        "            timestep_update = rule_function(ini_state)\n",
        "            rv.append(timestep_update)\n",
        "            ini_state = timestep_update\n",
        "        \n",
        "    return np.array(rv)"
      ],
      "execution_count": 4,
      "outputs": []
    },
    {
      "cell_type": "code",
      "metadata": {
        "id": "eN6uDw6QmyGH"
      },
      "source": [
        "def initial_state(width):\n",
        "    initial = np.zeros((1, width), dtype=int)\n",
        "    if width % 2 == 0:\n",
        "        initial = np.insert(initial, int(width / 2), values=0, axis=1)\n",
        "        initial[0, int(width / 2)] = 1\n",
        "        return initial[0]\n",
        "    else:\n",
        "        initial[0, int(width / 2)] = 1\n",
        "        return initial[0]"
      ],
      "execution_count": 5,
      "outputs": []
    },
    {
      "cell_type": "code",
      "metadata": {
        "colab": {
          "base_uri": "https://localhost:8080/",
          "height": 318
        },
        "id": "6S1T9R9nmpiW",
        "outputId": "b3152ed3-2358-49f8-f997-e09930a66d79"
      },
      "source": [
        "rule_function_use = make_rule(30)\n",
        "\n",
        "plt.imshow(apply_rule(rule_function_use, 300, False, 0, 0), cmap='binary', aspect='auto')\n",
        "plt.title('ECA Rule 75', fontsize=15)\n",
        "plt.ylabel(\"Timestep $t$\", fontsize=12)\n",
        "plt.xlabel(\"Cell Index\", fontsize=12)"
      ],
      "execution_count": 6,
      "outputs": [
        {
          "output_type": "execute_result",
          "data": {
            "text/plain": [
              "Text(0.5, 0, 'Cell Index')"
            ]
          },
          "metadata": {},
          "execution_count": 6
        },
        {
          "output_type": "display_data",
          "data": {
            "image/png": "[encoded data removed]",
            "text/plain": [
              "<Figure size 432x288 with 1 Axes>"
            ]
          },
          "metadata": {
            "needs_background": "light"
          }
        }
      ]
    },
    {
      "cell_type": "code",
      "metadata": {
        "id": "2Fhc1MV-m-CW"
      },
      "source": [
        "def TPM(rule_function, number_of_cells):\n",
        "    \n",
        "    maximum_range = 2**(number_of_cells+2)\n",
        "    TPM_matrix = []\n",
        "    \n",
        "    for i in range(maximum_range):\n",
        "        \n",
        "        binary = bin(i)[2:]\n",
        "        binary = binary.zfill(number_of_cells+2)\n",
        "        \n",
        "        state_iter_array = [int(i) for i in str(binary)]\n",
        "        next_timestep = rule_function(state_iter_array)\n",
        "        \n",
        "        \n",
        "        TPM_matrix.append(next_timestep)    \n",
        "        \n",
        "    return TPM_matrix"
      ],
      "execution_count": 7,
      "outputs": []
    },
    {
      "cell_type": "code",
      "metadata": {
        "id": "CDKn2cEenBoT",
        "colab": {
          "base_uri": "https://localhost:8080/"
        },
        "outputId": "a907d30e-c780-4d42-cba8-42a0bfcef087"
      },
      "source": [
        "rule_30 = make_rule(30)\n",
        "TPM_matrix = TPM(rule_30, 14)\n",
        "print(TPM_matrix)\n",
        "print(len(TPM_matrix[0]))\n",
        "for i in range(len(TPM_matrix)):\n",
        "  if list(TPM_matrix[i]) == [0,1,1,1,1,1,1,1,1,1,1,1,1,1,1,0]:\n",
        "    print(i)"
      ],
      "execution_count": 46,
      "outputs": [
        {
          "output_type": "stream",
          "name": "stderr",
          "text": [
            "IOPub data rate exceeded.\n",
            "The notebook server will temporarily stop sending output\n",
            "to the client in order to avoid crashing it.\n",
            "To change this limit, set the config variable\n",
            "`--NotebookApp.iopub_data_rate_limit`.\n",
            "\n",
            "Current values:\n",
            "NotebookApp.iopub_data_rate_limit=1000000.0 (bytes/sec)\n",
            "NotebookApp.rate_limit_window=3.0 (secs)\n",
            "\n"
          ]
        }
      ]
    },
    {
      "cell_type": "code",
      "metadata": {
        "id": "_9HT8ZoWrcmn"
      },
      "source": [
        "rule_30 = make_rule(30)\n",
        "TPM_matrix = TPM(rule_30, 14)\n",
        "for i in range(len(TPM_matrix)):\n",
        "  if list(TPM_matrix[i]) ==[0,1,1,1,1,1,1,1,1,1,1,1,1,1,1,0]:\n",
        "    print(i)\n",
        "    print(bin(i)[2:].zfill(16))"
      ],
      "execution_count": 49,
      "outputs": []
    },
    {
      "cell_type": "code",
      "metadata": {
        "colab": {
          "base_uri": "https://localhost:8080/"
        },
        "id": "Cil4i6vKe97y",
        "outputId": "ba0ab007-6796-4ffc-9c2a-5a94973cdc74"
      },
      "source": [
        "print(len([0,1,1,1,1,1,1,1,1,1,1,1,1,1,0]))"
      ],
      "execution_count": 44,
      "outputs": [
        {
          "output_type": "stream",
          "name": "stdout",
          "text": [
            "15\n"
          ]
        }
      ]
    },
    {
      "cell_type": "code",
      "metadata": {
        "id": "7ZOPw5bFm0KM"
      },
      "source": [
        "# n = 3\n",
        "\n",
        "\n",
        "\n",
        "\n",
        "\n",
        "# m = n+2\n",
        "# cm = []\n",
        "\n",
        "# for i in range(m):\n",
        "    \n",
        "#     l_cm = np.zeros(m)\n",
        "    \n",
        "#     if i > 0 and i < m-1:\n",
        "        \n",
        "#         l_cm[i] = 1\n",
        "#         l_cm[i-1] = 1\n",
        "#         l_cm[i+1] = 1\n",
        "        \n",
        "#     cm.append(l_cm)\n",
        "\n",
        "# print(cm)\n",
        "\n",
        "# subsystem_list = []\n",
        "\n",
        "# for i in range(n):\n",
        "#     subsystem_list.append(i+1)\n",
        "    \n",
        "# print(subsystem_list)\n",
        "\n",
        "# labels = ('$\\gamma$', 'A', 'B', 'C', '$\\delta$')\n",
        "\n",
        "# network = pyphi.Network(TPM_matrix, cm=cm, node_labels=labels)"
      ],
      "execution_count": 9,
      "outputs": []
    },
    {
      "cell_type": "code",
      "metadata": {
        "id": "VrnuSWQ_tL-3"
      },
      "source": [
        "# n = 5\n",
        "# values = []\n",
        "# values_list = []\n",
        "\n",
        "# for i in range(2**n):\n",
        "#   blah = []\n",
        "#   binary = str(bin(i)[2:])\n",
        "#   if len(binary) < n:\n",
        "#     binary = binary.zfill(n)\n",
        "\n",
        "#   for char in binary:\n",
        "#     blah.append(int(char))\n",
        "\n",
        "#   state = tuple(blah)\n",
        "\n",
        "#   try:\n",
        "#     print(i)\n",
        "#     subsystem = pyphi.Subsystem(network, state, subsystem_list)\n",
        "#     value = pyphi.compute.phi(subsystem)\n",
        "#     sia = pyphi.compute.sia(subsystem)\n",
        "#     concepts = len(sia.ces)\n",
        "#     if value != 0:\n",
        "#       print(state)\n",
        "#       print(value)\n",
        "#       print(concepts)\n",
        "#       print('************************************************')\n",
        "#   except:\n",
        "#     continue"
      ],
      "execution_count": 10,
      "outputs": []
    },
    {
      "cell_type": "code",
      "metadata": {
        "id": "MMeq2oXKaapR"
      },
      "source": [
        ""
      ],
      "execution_count": 10,
      "outputs": []
    },
    {
      "cell_type": "code",
      "metadata": {
        "id": "Y1GroepUaayG"
      },
      "source": [
        ""
      ],
      "execution_count": 10,
      "outputs": []
    },
    {
      "cell_type": "code",
      "metadata": {
        "id": "Y8lz-dzIaa1_"
      },
      "source": [
        ""
      ],
      "execution_count": 10,
      "outputs": []
    },
    {
      "cell_type": "code",
      "metadata": {
        "id": "YA3IVDAtaa4v"
      },
      "source": [
        ""
      ],
      "execution_count": 10,
      "outputs": []
    },
    {
      "cell_type": "code",
      "metadata": {
        "id": "AE_qtnKaaa7j"
      },
      "source": [
        "# def make_rule_V2(integer):\n",
        "#     binary = str(bin(integer)[2:])\n",
        "    \n",
        "#     if len(binary) < 32:\n",
        "#         binary = binary.zfill(32)\n",
        "    \n",
        "#     def rule_function_V2(array):\n",
        "#         row1 = array\n",
        "#         next_row = array.copy()\n",
        "#         for x in range(2, len(row1)-2):\n",
        "                \n",
        "#             # Given cell state is \"off\", then update given the neighbors like - \n",
        "#             if row1[x] == 0:\n",
        "                \n",
        "#                 if (row1[x-2] == 0) and (row1[x-1] == 0) and (row1[x+1] == 0) and (row1[x+2] == 0):\n",
        "#                     next_row[x] = int(binary[0])\n",
        "#                 if (row1[x-2] == 1) and (row1[x-1] == 1) and (row1[x+1] == 1) and (row1[x+2] == 1):\n",
        "#                     next_row[x] = int(binary[1])\n",
        "    \n",
        "                    \n",
        "                    \n",
        "#                 if (row1[x-2] == 0) and (row1[x-1] == 0) and (row1[x+1] == 0) and (row1[x+2] == 1):\n",
        "#                     next_row[x] = int(binary[2])\n",
        "                \n",
        "#                 if (row1[x-2] == 0) and (row1[x-1] == 0) and (row1[x+1] == 1) and (row1[x+2] == 0):\n",
        "#                     next_row[x] = int(binary[3])\n",
        "                \n",
        "#                 if (row1[x-2] == 0) and (row1[x-1] == 1) and (row1[x+1] == 0) and (row1[x+2] == 0):\n",
        "#                     next_row[x] = int(binary[4])\n",
        "                    \n",
        "#                 if (row1[x-2] == 1) and (row1[x-1] == 0) and (row1[x+1] == 0) and (row1[x+2] == 0):\n",
        "#                     next_row[x] = int(binary[5])\n",
        "                    \n",
        "                \n",
        "                \n",
        "#                 if (row1[x-2] == 1) and (row1[x-1] == 0) and (row1[x+1] == 0) and (row1[x+2] == 1):\n",
        "#                     next_row[x] = int(binary[6])\n",
        "                    \n",
        "#                 if (row1[x-2] == 1) and (row1[x-1] == 0) and (row1[x+1] == 1) and (row1[x+2] == 0):\n",
        "#                     next_row[x] = int(binary[7])\n",
        "\n",
        "#                 if (row1[x-2] == 0) and (row1[x-1] == 1) and (row1[x+1] == 0) and (row1[x+2] == 1):\n",
        "#                     next_row[x] = int(binary[8])\n",
        "                    \n",
        "#                 if (row1[x-2] == 0) and (row1[x-1] == 1) and (row1[x+1] == 1) and (row1[x+2] == 0):\n",
        "#                     next_row[x] = int(binary[9])\n",
        "                    \n",
        "#                 if (row1[x-2] == 1) and (row1[x-1] == 1) and (row1[x+1] == 0) and (row1[x+2] == 0):\n",
        "#                     next_row[x] = int(binary[10])\n",
        "                    \n",
        "#                 if (row1[x-2] == 0) and (row1[x-1] == 0) and (row1[x+1] == 1) and (row1[x+2] == 1):\n",
        "#                     next_row[x] = int(binary[11])\n",
        "                    \n",
        "                    \n",
        "                    \n",
        "#                 if (row1[x-2] == 1) and (row1[x-1] == 1) and (row1[x+1] == 1) and (row1[x+2] == 0):\n",
        "#                     next_row[x] = int(binary[12])\n",
        "                \n",
        "#                 if (row1[x-2] == 1) and (row1[x-1] == 1) and (row1[x+1] == 0) and (row1[x+2] == 1):\n",
        "#                     next_row[x] = int(binary[13])\n",
        "                \n",
        "#                 if (row1[x-2] == 1) and (row1[x-1] == 0) and (row1[x+1] == 1) and (row1[x+2] == 1):\n",
        "#                     next_row[x] = int(binary[14])\n",
        "                    \n",
        "#                 if (row1[x-2] == 0) and (row1[x-1] == 1) and (row1[x+1] == 1) and (row1[x+2] == 1):\n",
        "#                     next_row[x] = int(binary[15])\n",
        "            \n",
        "\n",
        "#             # Given cell state is \"on\", then update given the neighbors like -   \n",
        "#             else:\n",
        "                \n",
        "#                 if (row1[x-2] == 0) and (row1[x-1] == 0) and (row1[x+1] == 0) and (row1[x+2] == 0):\n",
        "#                     next_row[x] = int(binary[16])\n",
        "#                 if (row1[x-2] == 1) and (row1[x-1] == 1) and (row1[x+1] == 1) and (row1[x+2] == 1):\n",
        "#                     next_row[x] = int(binary[17])\n",
        "    \n",
        "                    \n",
        "                    \n",
        "#                 if (row1[x-2] == 0) and (row1[x-1] == 0) and (row1[x+1] == 0) and (row1[x+2] == 1):\n",
        "#                     next_row[x] = int(binary[18])\n",
        "                \n",
        "#                 if (row1[x-2] == 0) and (row1[x-1] == 0) and (row1[x+1] == 1) and (row1[x+2] == 0):\n",
        "#                     next_row[x] = int(binary[19])\n",
        "                \n",
        "#                 if (row1[x-2] == 0) and (row1[x-1] == 1) and (row1[x+1] == 0) and (row1[x+2] == 0):\n",
        "#                     next_row[x] = int(binary[20])\n",
        "                    \n",
        "#                 if (row1[x-2] == 1) and (row1[x-1] == 0) and (row1[x+1] == 0) and (row1[x+2] == 0):\n",
        "#                     next_row[x] = int(binary[21])\n",
        "                    \n",
        "                \n",
        "                \n",
        "#                 if (row1[x-2] == 1) and (row1[x-1] == 0) and (row1[x+1] == 0) and (row1[x+2] == 1):\n",
        "#                     next_row[x] = int(binary[22])\n",
        "                    \n",
        "#                 if (row1[x-2] == 1) and (row1[x-1] == 0) and (row1[x+1] == 1) and (row1[x+2] == 0):\n",
        "#                     next_row[x] = int(binary[23])\n",
        "\n",
        "#                 if (row1[x-2] == 0) and (row1[x-1] == 1) and (row1[x+1] == 0) and (row1[x+2] == 1):\n",
        "#                     next_row[x] = int(binary[24])\n",
        "                    \n",
        "#                 if (row1[x-2] == 0) and (row1[x-1] == 1) and (row1[x+1] == 1) and (row1[x+2] == 0):\n",
        "#                     next_row[x] = int(binary[25])\n",
        "                    \n",
        "#                 if (row1[x-2] == 1) and (row1[x-1] == 1) and (row1[x+1] == 0) and (row1[x+2] == 0):\n",
        "#                     next_row[x] = int(binary[26])\n",
        "                    \n",
        "#                 if (row1[x-2] == 0) and (row1[x-1] == 0) and (row1[x+1] == 1) and (row1[x+2] == 1):\n",
        "#                     next_row[x] = int(binary[27])\n",
        "                    \n",
        "                    \n",
        "                    \n",
        "#                 if (row1[x-2] == 1) and (row1[x-1] == 1) and (row1[x+1] == 1) and (row1[x+2] == 0):\n",
        "#                     next_row[x] = int(binary[28])\n",
        "                \n",
        "#                 if (row1[x-2] == 1) and (row1[x-1] == 1) and (row1[x+1] == 0) and (row1[x+2] == 1):\n",
        "#                     next_row[x] = int(binary[29])\n",
        "                \n",
        "#                 if (row1[x-2] == 1) and (row1[x-1] == 0) and (row1[x+1] == 1) and (row1[x+2] == 1):\n",
        "#                     next_row[x] = int(binary[30])\n",
        "                    \n",
        "#                 if (row1[x-2] == 0) and (row1[x-1] == 1) and (row1[x+1] == 1) and (row1[x+2] == 1):\n",
        "#                     next_row[x] = int(binary[31])\n",
        "\n",
        "                    \n",
        "#             next_row[0] = next_row[2]\n",
        "#             next_row[1] = next_row[2]\n",
        "#             next_row[len(row1)-1] = next_row[len(row1)-3]\n",
        "#             next_row[len(row1)-2] = next_row[len(row1)-3]\n",
        "            \n",
        "\n",
        "#         return np.array(next_row)\n",
        "\n",
        "#     return rule_function_V2"
      ],
      "execution_count": 11,
      "outputs": []
    },
    {
      "cell_type": "code",
      "metadata": {
        "id": "0bmfesFbOZBB"
      },
      "source": [
        "# # NOTE: 'timestep' variable used to denote the timestep in which the perturbation will occur, and 'n' is the number of...\n",
        "# #... iterations performed by the ECA. \n",
        "\n",
        "# def apply_rule_V2(rule_function, n, perturbation_boolean, timestep, cell):\n",
        "#     ini_state = initial_state(4*n + 1)\n",
        "#     rv = []\n",
        "#     rv.append(ini_state)\n",
        "#     if perturbation_boolean == True:\n",
        "#         for i in range(1, n):\n",
        "#             if i == timestep:\n",
        "#                 timestep_update = rule_function(ini_state)\n",
        "#                 if timestep_update[cell] == 0:\n",
        "#                     timestep_update[cell] = 1\n",
        "#                 else:\n",
        "#                     timestep_update[cell] = 0\n",
        "                    \n",
        "#                 rv.append(timestep_update)\n",
        "#                 ini_state = timestep_update\n",
        "                \n",
        "#             else:\n",
        "#                 timestep_update = rule_function(ini_state)\n",
        "#                 rv.append(timestep_update)\n",
        "#                 ini_state = timestep_update\n",
        "          \n",
        "#     else:\n",
        "#         for i in range(1, n):\n",
        "#             timestep_update = rule_function(ini_state)\n",
        "#             rv.append(timestep_update)\n",
        "#             ini_state = timestep_update\n",
        "        \n",
        "#     return np.array(rv)"
      ],
      "execution_count": 12,
      "outputs": []
    },
    {
      "cell_type": "code",
      "metadata": {
        "id": "LSp-y-SUOeeu"
      },
      "source": [
        "# rule_30 = make_rule_V2(2294967296)\n",
        "\n",
        "# plt.imshow(apply_rule_V2(rule_30, 300, False, 0, 0), cmap='binary', aspect='auto')"
      ],
      "execution_count": 13,
      "outputs": []
    },
    {
      "cell_type": "code",
      "metadata": {
        "id": "1KqvCIpJPrtg"
      },
      "source": [
        "def TPM_V2(rule_function, number_of_cells):\n",
        "    \n",
        "    maximum_range = 2**(number_of_cells+2)\n",
        "    TPM_matrix = []\n",
        "    \n",
        "    for i in range(maximum_range):\n",
        "        \n",
        "        binary = bin(i)[2:]\n",
        "        binary = binary.zfill(number_of_cells+2)\n",
        "        \n",
        "        state_iter_array = [int(i) for i in str(binary)]\n",
        "        next_timestep = rule_function(state_iter_array)\n",
        "        \n",
        "        \n",
        "        TPM_matrix.append(next_timestep)    \n",
        "        \n",
        "    return TPM_matrix"
      ],
      "execution_count": 14,
      "outputs": []
    },
    {
      "cell_type": "code",
      "metadata": {
        "id": "DuKXH7nfOfRl"
      },
      "source": [
        "# n = 5\n",
        "\n",
        "\n",
        "# TPM_matrix = TPM_V2(rule_30, n)\n",
        "\n",
        "\n",
        "# m = n+2\n",
        "# cm = []\n",
        "\n",
        "# for i in range(m):\n",
        "    \n",
        "#     l_cm = np.zeros(m)\n",
        "    \n",
        "#     if i > 1 and i < m-2:\n",
        "        \n",
        "#         l_cm[i] = 1\n",
        "#         l_cm[i-1] = 1\n",
        "#         l_cm[i-2] = 1\n",
        "#         l_cm[i+1] = 1\n",
        "#         l_cm[i+2] = 1\n",
        "        \n",
        "#     cm.append(l_cm)\n",
        "\n",
        "# print(cm)\n",
        "\n",
        "# subsystem_list = []\n",
        "\n",
        "# for i in range(2, n):\n",
        "#     subsystem_list.append(i)\n",
        "    \n",
        "# print(subsystem_list)\n",
        "\n",
        "# labels = ('$\\gamma$', '$theta$', 'A', 'B', 'C', '$eta$', '$\\delta$')\n",
        "\n",
        "# network = pyphi.Network(TPM_matrix, cm=cm, node_labels=labels)"
      ],
      "execution_count": 15,
      "outputs": []
    },
    {
      "cell_type": "code",
      "metadata": {
        "id": "OKlFw-2IQtF4"
      },
      "source": [
        "# n = 7\n",
        "# values = []\n",
        "# values_list = []\n",
        "# count = 0\n",
        "\n",
        "# for i in range(2**n):\n",
        "#   blah = []\n",
        "#   binary = str(bin(i)[2:])\n",
        "#   if len(binary) < n:\n",
        "#     binary = binary.zfill(n)\n",
        "\n",
        "#   for char in binary:\n",
        "#     blah.append(int(char))\n",
        "\n",
        "#   state = tuple(blah)\n",
        "\n",
        "#   try:\n",
        "#     print(i)\n",
        "#     subsystem = pyphi.Subsystem(network, state, subsystem_list)\n",
        "#     value = pyphi.compute.phi(subsystem)\n",
        "#     sia = pyphi.compute.sia(subsystem)\n",
        "#     concepts = len(sia.ces)\n",
        "#     if value != 0:\n",
        "#       count += 1\n",
        "#       print(state)\n",
        "#       print(value)\n",
        "#       print(concepts)\n",
        "#       print('counter', count)\n",
        "#       print('************************************************')\n",
        "#   except:\n",
        "#     continue"
      ],
      "execution_count": 16,
      "outputs": []
    },
    {
      "cell_type": "code",
      "metadata": {
        "id": "DuZOXJCBX3Ql"
      },
      "source": [
        ""
      ],
      "execution_count": 16,
      "outputs": []
    },
    {
      "cell_type": "code",
      "metadata": {
        "id": "Y-usHDrjX3Yp"
      },
      "source": [
        ""
      ],
      "execution_count": 16,
      "outputs": []
    },
    {
      "cell_type": "code",
      "metadata": {
        "id": "HsddP7JzX3bU"
      },
      "source": [
        ""
      ],
      "execution_count": 16,
      "outputs": []
    },
    {
      "cell_type": "code",
      "metadata": {
        "id": "BAhQ0A3cX3f8"
      },
      "source": [
        ""
      ],
      "execution_count": 16,
      "outputs": []
    },
    {
      "cell_type": "code",
      "metadata": {
        "id": "dB7rFwafX3im"
      },
      "source": [
        ""
      ],
      "execution_count": 16,
      "outputs": []
    },
    {
      "cell_type": "code",
      "metadata": {
        "id": "o8iL8y1OX3lX"
      },
      "source": [
        "# rule_30 = make_rule_V2(331267296)\n",
        "\n",
        "# plt.imshow(apply_rule_V2(rule_30, 300, False, 0, 0), cmap='binary', aspect='auto')"
      ],
      "execution_count": 17,
      "outputs": []
    },
    {
      "cell_type": "code",
      "metadata": {
        "id": "wRRJB4PTYB-X"
      },
      "source": [
        "# n = 5\n",
        "\n",
        "\n",
        "# TPM_matrix = TPM_V2(rule_30, n)\n",
        "\n",
        "\n",
        "# m = n+2\n",
        "# cm = []\n",
        "\n",
        "# for i in range(m):\n",
        "    \n",
        "#     l_cm = np.zeros(m)\n",
        "    \n",
        "#     if i > 1 and i < m-2:\n",
        "        \n",
        "#         l_cm[i] = 1\n",
        "#         l_cm[i-1] = 1\n",
        "#         l_cm[i-2] = 1\n",
        "#         l_cm[i+1] = 1\n",
        "#         l_cm[i+2] = 1\n",
        "        \n",
        "#     cm.append(l_cm)\n",
        "\n",
        "# print(cm)\n",
        "\n",
        "# subsystem_list = []\n",
        "\n",
        "# for i in range(2, n):\n",
        "#     subsystem_list.append(i)\n",
        "    \n",
        "# print(subsystem_list)\n",
        "\n",
        "# labels = ('$\\gamma$', '$theta$', 'A', 'B', 'C', '$eta$', '$\\delta$')\n",
        "\n",
        "# network = pyphi.Network(TPM_matrix, cm=cm, node_labels=labels)"
      ],
      "execution_count": 18,
      "outputs": []
    },
    {
      "cell_type": "code",
      "metadata": {
        "id": "EYfainq6YEyC"
      },
      "source": [
        "# n = 7\n",
        "# values = []\n",
        "# values_list = []\n",
        "# count = 0\n",
        "\n",
        "# for i in range(2**n):\n",
        "#   blah = []\n",
        "#   binary = str(bin(i)[2:])\n",
        "#   if len(binary) < n:\n",
        "#     binary = binary.zfill(n)\n",
        "\n",
        "#   for char in binary:\n",
        "#     blah.append(int(char))\n",
        "\n",
        "#   state = tuple(blah)\n",
        "\n",
        "#   try:\n",
        "#     print(i)\n",
        "#     subsystem = pyphi.Subsystem(network, state, subsystem_list)\n",
        "#     value = pyphi.compute.phi(subsystem)\n",
        "#     sia = pyphi.compute.sia(subsystem)\n",
        "#     concepts = len(sia.ces)\n",
        "#     if value != 0:\n",
        "#       count += 1\n",
        "#       print(state)\n",
        "#       print(value)\n",
        "#       print(concepts)\n",
        "#       print('counter', count)\n",
        "#       print('************************************************')\n",
        "#   except:\n",
        "#     continue"
      ],
      "execution_count": 19,
      "outputs": []
    },
    {
      "cell_type": "code",
      "metadata": {
        "id": "0Zr4C1vkoDIq"
      },
      "source": [
        ""
      ],
      "execution_count": 19,
      "outputs": []
    },
    {
      "cell_type": "code",
      "metadata": {
        "id": "z1JIzVY-oDK_"
      },
      "source": [
        ""
      ],
      "execution_count": 19,
      "outputs": []
    },
    {
      "cell_type": "code",
      "metadata": {
        "id": "NIehLgfpoDNZ"
      },
      "source": [
        ""
      ],
      "execution_count": 19,
      "outputs": []
    },
    {
      "cell_type": "code",
      "metadata": {
        "id": "TYW5kHpaoDPl"
      },
      "source": [
        ""
      ],
      "execution_count": 19,
      "outputs": []
    },
    {
      "cell_type": "code",
      "metadata": {
        "id": "wmw4cz8DoDR5"
      },
      "source": [
        ""
      ],
      "execution_count": 19,
      "outputs": []
    },
    {
      "cell_type": "code",
      "metadata": {
        "colab": {
          "base_uri": "https://localhost:8080/"
        },
        "id": "fOaYok_PoDWT",
        "outputId": "850584eb-78c3-4cc7-bc02-d049405ebaf3"
      },
      "source": [
        "n = 3\n",
        "m = n+2\n",
        "cm = []\n",
        "phi_averages_list = []\n",
        "concepts_averages_list = []\n",
        "\n",
        "for i in range(m):\n",
        "    l_cm = np.zeros(m)\n",
        "    if i > 0 and i < m-1:\n",
        "        l_cm[i] = 1\n",
        "        l_cm[i-1] = 1\n",
        "        l_cm[i+1] = 1\n",
        "    cm.append(l_cm)\n",
        "\n",
        "subsystem_list = []\n",
        "\n",
        "for i in range(n):\n",
        "    subsystem_list.append(i+1)\n",
        "    \n",
        "print(subsystem_list)\n",
        "\n",
        "labels = ('$\\gamma$', 'A', 'B', 'C', '$\\delta$')\n",
        "\n",
        "\n",
        "# for i in range(30):\n",
        "#   print('**********************************')\n",
        "#   print(i)\n",
        "#   rule_30 = make_rule(i)\n",
        "#   TPM_matrix = TPM(rule_30, n)\n",
        "#   network = pyphi.Network(TPM_matrix, cm=cm, node_labels=labels)\n",
        "#   counter = 0\n",
        "#   phi_sum = 0\n",
        "#   concepts_sum = 0  \n",
        "\n",
        "#   for j in range(2**5):\n",
        "#     blah = []\n",
        "#     binary = str(bin(j)[2:])\n",
        "#     if len(binary) < 5:\n",
        "#       binary = binary.zfill(5)\n",
        "\n",
        "#     for char in binary:\n",
        "#       blah.append(int(char))\n",
        "\n",
        "#     state = tuple(blah)\n",
        "\n",
        "#     try:\n",
        "#       subsystem = pyphi.Subsystem(network, state, subsystem_list)\n",
        "#       value = pyphi.compute.phi(subsystem)\n",
        "#       sia = pyphi.compute.sia(subsystem)\n",
        "#       concepts = len(sia.ces)\n",
        "#       if value != 0:\n",
        "#         phi_sum += value\n",
        "#         concepts_sum += concepts\n",
        "#         counter += 1\n",
        "#     except:\n",
        "#       continue\n",
        "#   if counter == 0:\n",
        "#     phi_averages_list.append(0)\n",
        "#     concepts_averages_list.append(0)\n",
        "#   else:\n",
        "#     phi_averages_list.append(phi_sum/counter)\n",
        "#     concepts_averages_list.append(concepts_sum/counter)\n",
        "\n",
        "#   if i%5 == 0:\n",
        "#     with open(\"Saved_Phi_List_1\", \"wb\") as pf:\n",
        "#       pickle.dump(phi_averages_list, pf)\n",
        "      \n",
        "#     with open(\"Saved_Concepts_List_1\", \"wb\") as fp:\n",
        "#       pickle.dump(concepts_averages_list, fp)"
      ],
      "execution_count": 20,
      "outputs": [
        {
          "output_type": "stream",
          "name": "stdout",
          "text": [
            "[1, 2, 3]\n"
          ]
        }
      ]
    },
    {
      "cell_type": "code",
      "metadata": {
        "id": "1J9TuaSYL_OR"
      },
      "source": [
        "# for i in range(30, 60):\n",
        "#   print('**********************************')\n",
        "#   print(i)\n",
        "#   rule_30 = make_rule(i)\n",
        "#   TPM_matrix = TPM(rule_30, n)\n",
        "#   network = pyphi.Network(TPM_matrix, cm=cm, node_labels=labels)\n",
        "#   counter = 0\n",
        "#   phi_sum = 0\n",
        "#   concepts_sum = 0  \n",
        "\n",
        "#   for j in range(2**5):\n",
        "#     blah = []\n",
        "#     binary = str(bin(j)[2:])\n",
        "#     if len(binary) < 5:\n",
        "#       binary = binary.zfill(5)\n",
        "\n",
        "#     for char in binary:\n",
        "#       blah.append(int(char))\n",
        "\n",
        "#     state = tuple(blah)\n",
        "\n",
        "#     try:\n",
        "#       subsystem = pyphi.Subsystem(network, state, subsystem_list)\n",
        "#       value = pyphi.compute.phi(subsystem)\n",
        "#       sia = pyphi.compute.sia(subsystem)\n",
        "#       concepts = len(sia.ces)\n",
        "#       if value != 0:\n",
        "#         phi_sum += value\n",
        "#         concepts_sum += concepts\n",
        "#         counter += 1\n",
        "#     except:\n",
        "#       continue\n",
        "#   if counter == 0:\n",
        "#     phi_averages_list.append(0)\n",
        "#     concepts_averages_list.append(0)\n",
        "#   else:\n",
        "#     phi_averages_list.append(phi_sum/counter)\n",
        "#     concepts_averages_list.append(concepts_sum/counter)\n",
        "\n",
        "#   if i%5 == 0:\n",
        "#     with open(\"Saved_Phi_List_2\", \"wb\") as pf:\n",
        "#       pickle.dump(phi_averages_list, pf)\n",
        "      \n",
        "#     with open(\"Saved_Concepts_List_2\", \"wb\") as fp:\n",
        "#       pickle.dump(concepts_averages_list, fp)"
      ],
      "execution_count": 21,
      "outputs": []
    },
    {
      "cell_type": "code",
      "metadata": {
        "id": "hp8_HsoZMCRP"
      },
      "source": [
        "# for i in range(60, 90):\n",
        "#   print('**********************************')\n",
        "#   print(i)\n",
        "#   rule_30 = make_rule(i)\n",
        "#   TPM_matrix = TPM(rule_30, n)\n",
        "#   network = pyphi.Network(TPM_matrix, cm=cm, node_labels=labels)\n",
        "#   counter = 0\n",
        "#   phi_sum = 0\n",
        "#   concepts_sum = 0  \n",
        "\n",
        "#   for j in range(2**5):\n",
        "#     blah = []\n",
        "#     binary = str(bin(j)[2:])\n",
        "#     if len(binary) < 5:\n",
        "#       binary = binary.zfill(5)\n",
        "\n",
        "#     for char in binary:\n",
        "#       blah.append(int(char))\n",
        "\n",
        "#     state = tuple(blah)\n",
        "\n",
        "#     try:\n",
        "#       subsystem = pyphi.Subsystem(network, state, subsystem_list)\n",
        "#       value = pyphi.compute.phi(subsystem)\n",
        "#       sia = pyphi.compute.sia(subsystem)\n",
        "#       concepts = len(sia.ces)\n",
        "#       if value != 0:\n",
        "#         phi_sum += value\n",
        "#         concepts_sum += concepts\n",
        "#         counter += 1\n",
        "#     except:\n",
        "#       continue\n",
        "#   if counter == 0:\n",
        "#     phi_averages_list.append(0)\n",
        "#     concepts_averages_list.append(0)\n",
        "#   else:\n",
        "#     phi_averages_list.append(phi_sum/counter)\n",
        "#     concepts_averages_list.append(concepts_sum/counter)\n",
        "\n",
        "#   if i%5 == 0:\n",
        "#     with open(\"Saved_Phi_List_3\", \"wb\") as pf:\n",
        "#       pickle.dump(phi_averages_list, pf)\n",
        "      \n",
        "#     with open(\"Saved_Concepts_List_3\", \"wb\") as fp:\n",
        "#       pickle.dump(concepts_averages_list, fp)"
      ],
      "execution_count": 22,
      "outputs": []
    },
    {
      "cell_type": "code",
      "metadata": {
        "id": "e_dlI7sEMTH8"
      },
      "source": [
        "# for i in range(90, 120):\n",
        "#   print('**********************************')\n",
        "#   print(i)\n",
        "#   rule_30 = make_rule(i)\n",
        "#   TPM_matrix = TPM(rule_30, n)\n",
        "#   network = pyphi.Network(TPM_matrix, cm=cm, node_labels=labels)\n",
        "#   counter = 0\n",
        "#   phi_sum = 0\n",
        "#   concepts_sum = 0  \n",
        "\n",
        "#   for j in range(2**5):\n",
        "#     blah = []\n",
        "#     binary = str(bin(j)[2:])\n",
        "#     if len(binary) < 5:\n",
        "#       binary = binary.zfill(5)\n",
        "\n",
        "#     for char in binary:\n",
        "#       blah.append(int(char))\n",
        "\n",
        "#     state = tuple(blah)\n",
        "\n",
        "#     try:\n",
        "#       subsystem = pyphi.Subsystem(network, state, subsystem_list)\n",
        "#       value = pyphi.compute.phi(subsystem)\n",
        "#       sia = pyphi.compute.sia(subsystem)\n",
        "#       concepts = len(sia.ces)\n",
        "#       if value != 0:\n",
        "#         phi_sum += value\n",
        "#         concepts_sum += concepts\n",
        "#         counter += 1\n",
        "#     except:\n",
        "#       continue\n",
        "#   if counter == 0:\n",
        "#     phi_averages_list.append(0)\n",
        "#     concepts_averages_list.append(0)\n",
        "#   else:\n",
        "#     phi_averages_list.append(phi_sum/counter)\n",
        "#     concepts_averages_list.append(concepts_sum/counter)\n",
        "\n",
        "#   if i%5 == 0:\n",
        "#     with open(\"Saved_Phi_List_4\", \"wb\") as pf:\n",
        "#       pickle.dump(phi_averages_list, pf)\n",
        "      \n",
        "#     with open(\"Saved_Concepts_List_4\", \"wb\") as fp:\n",
        "#       pickle.dump(concepts_averages_list, fp)"
      ],
      "execution_count": 23,
      "outputs": []
    },
    {
      "cell_type": "code",
      "metadata": {
        "id": "D4jk1es7MWiE"
      },
      "source": [
        "# for i in range(120, 150):\n",
        "#   print('**********************************')\n",
        "#   print(i)\n",
        "#   rule_30 = make_rule(i)\n",
        "#   TPM_matrix = TPM(rule_30, n)\n",
        "#   network = pyphi.Network(TPM_matrix, cm=cm, node_labels=labels)\n",
        "#   counter = 0\n",
        "#   phi_sum = 0\n",
        "#   concepts_sum = 0  \n",
        "\n",
        "#   for j in range(2**5):\n",
        "#     blah = []\n",
        "#     binary = str(bin(j)[2:])\n",
        "#     if len(binary) < 5:\n",
        "#       binary = binary.zfill(5)\n",
        "\n",
        "#     for char in binary:\n",
        "#       blah.append(int(char))\n",
        "\n",
        "#     state = tuple(blah)\n",
        "\n",
        "#     try:\n",
        "#       subsystem = pyphi.Subsystem(network, state, subsystem_list)\n",
        "#       value = pyphi.compute.phi(subsystem)\n",
        "#       sia = pyphi.compute.sia(subsystem)\n",
        "#       concepts = len(sia.ces)\n",
        "#       if value != 0:\n",
        "#         phi_sum += value\n",
        "#         concepts_sum += concepts\n",
        "#         counter += 1\n",
        "#     except:\n",
        "#       continue\n",
        "#   if counter == 0:\n",
        "#     phi_averages_list.append(0)\n",
        "#     concepts_averages_list.append(0)\n",
        "#   else:\n",
        "#     phi_averages_list.append(phi_sum/counter)\n",
        "#     concepts_averages_list.append(concepts_sum/counter)\n",
        "\n",
        "#   if i%5 == 0:\n",
        "#     with open(\"Saved_Phi_List_5\", \"wb\") as pf:\n",
        "#       pickle.dump(phi_averages_list, pf)\n",
        "      \n",
        "#     with open(\"Saved_Concepts_List_5\", \"wb\") as fp:\n",
        "#       pickle.dump(concepts_averages_list, fp)"
      ],
      "execution_count": 24,
      "outputs": []
    },
    {
      "cell_type": "code",
      "metadata": {
        "id": "bYckkLo3MYc5"
      },
      "source": [
        "# for i in range(150, 180):\n",
        "#   print('**********************************')\n",
        "#   print(i)\n",
        "#   rule_30 = make_rule(i)\n",
        "#   TPM_matrix = TPM(rule_30, n)\n",
        "#   network = pyphi.Network(TPM_matrix, cm=cm, node_labels=labels)\n",
        "#   counter = 0\n",
        "#   phi_sum = 0\n",
        "#   concepts_sum = 0  \n",
        "\n",
        "#   for j in range(2**5):\n",
        "#     blah = []\n",
        "#     binary = str(bin(j)[2:])\n",
        "#     if len(binary) < 5:\n",
        "#       binary = binary.zfill(5)\n",
        "\n",
        "#     for char in binary:\n",
        "#       blah.append(int(char))\n",
        "\n",
        "#     state = tuple(blah)\n",
        "\n",
        "#     try:\n",
        "#       subsystem = pyphi.Subsystem(network, state, subsystem_list)\n",
        "#       value = pyphi.compute.phi(subsystem)\n",
        "#       sia = pyphi.compute.sia(subsystem)\n",
        "#       concepts = len(sia.ces)\n",
        "#       if value != 0:\n",
        "#         phi_sum += value\n",
        "#         concepts_sum += concepts\n",
        "#         counter += 1\n",
        "#     except:\n",
        "#       continue\n",
        "#   if counter == 0:\n",
        "#     phi_averages_list.append(0)\n",
        "#     concepts_averages_list.append(0)\n",
        "#   else:\n",
        "#     phi_averages_list.append(phi_sum/counter)\n",
        "#     concepts_averages_list.append(concepts_sum/counter)\n",
        "\n",
        "#   if i%5 == 0:\n",
        "#     with open(\"Saved_Phi_List_6\", \"wb\") as pf:\n",
        "#       pickle.dump(phi_averages_list, pf)\n",
        "      \n",
        "#     with open(\"Saved_Concepts_List_6\", \"wb\") as fp:\n",
        "#       pickle.dump(concepts_averages_list, fp)"
      ],
      "execution_count": 25,
      "outputs": []
    },
    {
      "cell_type": "code",
      "metadata": {
        "colab": {
          "base_uri": "https://localhost:8080/",
          "height": 239
        },
        "id": "j2_mfahtMaTx",
        "outputId": "c9f794a7-5ea8-44f8-bf3d-801569c081d0"
      },
      "source": [
        "with open(\"Saved_Concepts_List_7\", \"rb\") as pf:   # Unpickling\n",
        "    Saved_Concepts_List = pickle.load(pf)\n",
        "\n",
        "with open(\"Saved_Phi_List_7\", \"rb\") as pf:   # Unpickling\n",
        "    Saved_Phi_List = pickle.load(pf)\n",
        "    \n",
        "print(len(Saved_Concepts_List_7))\n",
        "print(len(Saved_Phi_List_7))\n",
        "\n",
        "\n",
        "for i in range(191, 210):\n",
        "  print('**********************************')\n",
        "  print(i)\n",
        "  rule_30 = make_rule(i)\n",
        "  TPM_matrix = TPM(rule_30, n)\n",
        "  network = pyphi.Network(TPM_matrix, cm=cm, node_labels=labels)\n",
        "  counter = 0\n",
        "  phi_sum = 0\n",
        "  concepts_sum = 0  \n",
        "\n",
        "  for j in range(2**5):\n",
        "    blah = []\n",
        "    binary = str(bin(j)[2:])\n",
        "    if len(binary) < 5:\n",
        "      binary = binary.zfill(5)\n",
        "\n",
        "    for char in binary:\n",
        "      blah.append(int(char))\n",
        "\n",
        "    state = tuple(blah)\n",
        "\n",
        "    try:\n",
        "      subsystem = pyphi.Subsystem(network, state, subsystem_list)\n",
        "      value = pyphi.compute.phi(subsystem)\n",
        "      sia = pyphi.compute.sia(subsystem)\n",
        "      concepts = len(sia.ces)\n",
        "      if value != 0:\n",
        "        phi_sum += value\n",
        "        concepts_sum += concepts\n",
        "        counter += 1\n",
        "    except:\n",
        "      continue\n",
        "  if counter == 0:\n",
        "    phi_averages_list.append(0)\n",
        "    concepts_averages_list.append(0)\n",
        "  else:\n",
        "    phi_averages_list.append(phi_sum/counter)\n",
        "    concepts_averages_list.append(concepts_sum/counter)\n",
        "\n",
        "  if i%5 == 0:\n",
        "    with open(\"Saved_Phi_List_7\", \"wb\") as pf:\n",
        "      pickle.dump(phi_averages_list, pf)\n",
        "      \n",
        "    with open(\"Saved_Concepts_List_7\", \"wb\") as fp:\n",
        "      pickle.dump(concepts_averages_list, fp)"
      ],
      "execution_count": 26,
      "outputs": [
        {
          "output_type": "error",
          "ename": "NameError",
          "evalue": "ignored",
          "traceback": [
            "\u001b[0;31m---------------------------------------------------------------------------\u001b[0m",
            "\u001b[0;31mNameError\u001b[0m                                 Traceback (most recent call last)",
            "\u001b[0;32m<ipython-input-26-77568b01436c>\u001b[0m in \u001b[0;36m<module>\u001b[0;34m()\u001b[0m\n\u001b[1;32m      5\u001b[0m     \u001b[0mSaved_Phi_List\u001b[0m \u001b[0;34m=\u001b[0m \u001b[0mpickle\u001b[0m\u001b[0;34m.\u001b[0m\u001b[0mload\u001b[0m\u001b[0;34m(\u001b[0m\u001b[0mpf\u001b[0m\u001b[0;34m)\u001b[0m\u001b[0;34m\u001b[0m\u001b[0;34m\u001b[0m\u001b[0m\n\u001b[1;32m      6\u001b[0m \u001b[0;34m\u001b[0m\u001b[0m\n\u001b[0;32m----> 7\u001b[0;31m \u001b[0mprint\u001b[0m\u001b[0;34m(\u001b[0m\u001b[0mlen\u001b[0m\u001b[0;34m(\u001b[0m\u001b[0mSaved_Concepts_List_7\u001b[0m\u001b[0;34m)\u001b[0m\u001b[0;34m)\u001b[0m\u001b[0;34m\u001b[0m\u001b[0;34m\u001b[0m\u001b[0m\n\u001b[0m\u001b[1;32m      8\u001b[0m \u001b[0mprint\u001b[0m\u001b[0;34m(\u001b[0m\u001b[0mlen\u001b[0m\u001b[0;34m(\u001b[0m\u001b[0mSaved_Phi_List_7\u001b[0m\u001b[0;34m)\u001b[0m\u001b[0;34m)\u001b[0m\u001b[0;34m\u001b[0m\u001b[0;34m\u001b[0m\u001b[0m\n\u001b[1;32m      9\u001b[0m \u001b[0;34m\u001b[0m\u001b[0m\n",
            "\u001b[0;31mNameError\u001b[0m: name 'Saved_Concepts_List_7' is not defined"
          ]
        }
      ]
    },
    {
      "cell_type": "code",
      "metadata": {
        "id": "Rme_u_LxMc7b"
      },
      "source": [
        "for i in range(210, 240):\n",
        "  print('**********************************')\n",
        "  print(i)\n",
        "  rule_30 = make_rule(i)\n",
        "  TPM_matrix = TPM(rule_30, n)\n",
        "  network = pyphi.Network(TPM_matrix, cm=cm, node_labels=labels)\n",
        "  counter = 0\n",
        "  phi_sum = 0\n",
        "  concepts_sum = 0  \n",
        "\n",
        "  for j in range(2**5):\n",
        "    blah = []\n",
        "    binary = str(bin(j)[2:])\n",
        "    if len(binary) < 5:\n",
        "      binary = binary.zfill(5)\n",
        "\n",
        "    for char in binary:\n",
        "      blah.append(int(char))\n",
        "\n",
        "    state = tuple(blah)\n",
        "\n",
        "    try:\n",
        "      subsystem = pyphi.Subsystem(network, state, subsystem_list)\n",
        "      value = pyphi.compute.phi(subsystem)\n",
        "      sia = pyphi.compute.sia(subsystem)\n",
        "      concepts = len(sia.ces)\n",
        "      if value != 0:\n",
        "        phi_sum += value\n",
        "        concepts_sum += concepts\n",
        "        counter += 1\n",
        "    except:\n",
        "      continue\n",
        "  if counter == 0:\n",
        "    phi_averages_list.append(0)\n",
        "    concepts_averages_list.append(0)\n",
        "  else:\n",
        "    phi_averages_list.append(phi_sum/counter)\n",
        "    concepts_averages_list.append(concepts_sum/counter)\n",
        "\n",
        "  if i%5 == 0:\n",
        "    with open(\"Saved_Phi_List_8\", \"wb\") as pf:\n",
        "      pickle.dump(phi_averages_list, pf)\n",
        "      \n",
        "    with open(\"Saved_Concepts_List_8\", \"wb\") as fp:\n",
        "      pickle.dump(concepts_averages_list, fp)"
      ],
      "execution_count": null,
      "outputs": []
    },
    {
      "cell_type": "code",
      "metadata": {
        "id": "F4YhjsTIMhGT"
      },
      "source": [
        "for i in range(240, 256):\n",
        "  print('**********************************')\n",
        "  print(i)\n",
        "  rule_30 = make_rule(i)\n",
        "  TPM_matrix = TPM(rule_30, n)\n",
        "  network = pyphi.Network(TPM_matrix, cm=cm, node_labels=labels)\n",
        "  counter = 0\n",
        "  phi_sum = 0\n",
        "  concepts_sum = 0  \n",
        "\n",
        "  for j in range(2**5):\n",
        "    blah = []\n",
        "    binary = str(bin(j)[2:])\n",
        "    if len(binary) < 5:\n",
        "      binary = binary.zfill(5)\n",
        "\n",
        "    for char in binary:\n",
        "      blah.append(int(char))\n",
        "\n",
        "    state = tuple(blah)\n",
        "\n",
        "    try:\n",
        "      subsystem = pyphi.Subsystem(network, state, subsystem_list)\n",
        "      value = pyphi.compute.phi(subsystem)\n",
        "      sia = pyphi.compute.sia(subsystem)\n",
        "      concepts = len(sia.ces)\n",
        "      if value != 0:\n",
        "        phi_sum += value\n",
        "        concepts_sum += concepts\n",
        "        counter += 1\n",
        "    except:\n",
        "      continue\n",
        "  if counter == 0:\n",
        "    phi_averages_list.append(0)\n",
        "    concepts_averages_list.append(0)\n",
        "  else:\n",
        "    phi_averages_list.append(phi_sum/counter)\n",
        "    concepts_averages_list.append(concepts_sum/counter)\n",
        "\n",
        "  if i%5 == 0:\n",
        "    with open(\"Saved_Phi_List_9\", \"wb\") as pf:\n",
        "      pickle.dump(phi_averages_list, pf)\n",
        "      \n",
        "    with open(\"Saved_Concepts_List_9\", \"wb\") as fp:\n",
        "      pickle.dump(concepts_averages_list, fp)"
      ],
      "execution_count": null,
      "outputs": []
    },
    {
      "cell_type": "code",
      "metadata": {
        "id": "Im1fTre7MdAT"
      },
      "source": [
        ""
      ],
      "execution_count": null,
      "outputs": []
    },
    {
      "cell_type": "code",
      "metadata": {
        "id": "Efso0nca3kC8"
      },
      "source": [
        "plt.figure(figsize=(14,10))\n",
        "plt.ylabel('Average # of Concepts', fontsize = 18)\n",
        "plt.xlabel('Average $\\phi^{Max}$', fontsize = 18)\n",
        "plt.xticks(fontsize = 14)\n",
        "plt.yticks(fontsize = 14)\n",
        "plt.title('Average # of Concepts vs. Average $\\phi^{Max}$ for All ECA', fontsize = 22)\n",
        "plt.plot(phi_averages_list, concepts_averages_list, 'bo')\n",
        "plt.plot(phi_averages_list[30], concepts_averages_list[30], 'ro', markersize = 10, label = 'ECA Rule 30')\n",
        "plt.plot(phi_averages_list[110], concepts_averages_list[110], 'go', markersize = 10, label = 'ECA Rule 110')\n",
        "plt.plot(phi_averages_list[73], concepts_averages_list[73], 'mo', markersize = 10, label = 'ECA Rule 73')\n",
        "plt.plot(phi_averages_list[105], concepts_averages_list[105], 'ko', markersize = 10, label = 'ECA Rule 105')\n",
        "plt.plot(phi_averages_list[90], concepts_averages_list[90], 'kv', markersize = 10, label = 'ECA Rule 90')\n",
        "plt.plot(phi_averages_list[75], concepts_averages_list[75], 'kD', markersize = 10, label = 'ECA Rule 90')\n",
        "plt.legend(fontsize = 18)\n",
        "\n",
        "sicko = [i for i in range(256)]\n",
        "\n",
        "for i, txt in enumerate(sicko):\n",
        "  if concepts_averages_list[i] == 0 and phi_averages_list[i] == 0:\n",
        "    continue\n",
        "  else:\n",
        "    plt.annotate(txt, (phi_averages_list[i], concepts_averages_list[i]))"
      ],
      "execution_count": null,
      "outputs": []
    },
    {
      "cell_type": "code",
      "metadata": {
        "id": "7Mx3V35_uN9L"
      },
      "source": [
        "with open(\"Saved_Phi_List\", \"rb\") as fp:   # Unpickling\n",
        "    phi_averages_list = pickle.load(fp)\n",
        "\n",
        "with open(\"Saved_Concepts_List\", \"rb\") as pf:   # Unpickling\n",
        "    concepts_averages_list = pickle.load(pf)\n",
        "\n",
        "print(phi_averages_list)\n",
        "print(concepts_averages_list)\n",
        "\n",
        "print(len(phi_averages_list))\n",
        "print(len(concepts_averages_list))"
      ],
      "execution_count": null,
      "outputs": []
    }
  ]
}