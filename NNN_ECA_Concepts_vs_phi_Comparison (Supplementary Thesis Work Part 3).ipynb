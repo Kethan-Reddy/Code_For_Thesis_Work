{
  "nbformat": 4,
  "nbformat_minor": 0,
  "metadata": {
    "colab": {
      "name": "Concepts_vs_phi_Comparison.ipynb",
      "provenance": [],
      "collapsed_sections": []
    },
    "kernelspec": {
      "name": "python3",
      "display_name": "Python 3"
    },
    "language_info": {
      "name": "python"
    }
  },
  "cells": [
    {
      "cell_type": "code",
      "metadata": {
        "colab": {
          "base_uri": "https://localhost:8080/"
        },
        "id": "hzubrDJiXPMx",
        "outputId": "95e92828-2010-41c2-8909-8591aa5e202b"
      },
      "source": [
        "!pip install pyphi\n",
        "import numpy as np\n",
        "import matplotlib.pyplot as plt\n",
        "import sys\n",
        "import random\n",
        "import pickle\n",
        "import math\n",
        "from operator import add\n",
        "import torch\n",
        "import torch.nn as nn\n",
        "import pyphi\n",
        "np.set_printoptions(threshold=sys.maxsize)"
      ],
      "execution_count": 1,
      "outputs": [
        {
          "output_type": "stream",
          "name": "stdout",
          "text": [
            "Requirement already satisfied: pyphi in /usr/local/lib/python3.7/dist-packages (1.2.0)\n",
            "Requirement already satisfied: numpy>=1.11.0 in /usr/local/lib/python3.7/dist-packages (from pyphi) (1.19.5)\n",
            "Requirement already satisfied: redis>=2.10.5 in /usr/local/lib/python3.7/dist-packages (from pyphi) (3.5.3)\n",
            "Requirement already satisfied: psutil>=2.1.1 in /usr/local/lib/python3.7/dist-packages (from pyphi) (5.4.8)\n",
            "Requirement already satisfied: tqdm>=4.20.0 in /usr/local/lib/python3.7/dist-packages (from pyphi) (4.62.0)\n",
            "Requirement already satisfied: tblib>=1.3.2 in /usr/local/lib/python3.7/dist-packages (from pyphi) (1.7.0)\n",
            "Requirement already satisfied: decorator>=4.0.0 in /usr/local/lib/python3.7/dist-packages (from pyphi) (4.4.2)\n",
            "Requirement already satisfied: pyemd>=0.3.0 in /usr/local/lib/python3.7/dist-packages (from pyphi) (0.5.1)\n",
            "Requirement already satisfied: joblib>=0.8.0 in /usr/local/lib/python3.7/dist-packages (from pyphi) (1.0.1)\n",
            "Requirement already satisfied: pyyaml>=3.13 in /usr/local/lib/python3.7/dist-packages (from pyphi) (3.13)\n",
            "Requirement already satisfied: scipy>=0.13.3 in /usr/local/lib/python3.7/dist-packages (from pyphi) (1.4.1)\n",
            "Requirement already satisfied: pymongo>=2.7.1 in /usr/local/lib/python3.7/dist-packages (from pyphi) (3.12.0)\n",
            "\n",
            "Welcome to PyPhi!\n",
            "\n",
            "If you use PyPhi in your research, please cite the paper:\n",
            "\n",
            "  Mayner WGP, Marshall W, Albantakis L, Findlay G, Marchman R, Tononi G.\n",
            "  (2018). PyPhi: A toolbox for integrated information theory.\n",
            "  PLOS Computational Biology 14(7): e1006343.\n",
            "  https://doi.org/10.1371/journal.pcbi.1006343\n",
            "\n",
            "Documentation is available online (or with the built-in `help()` function):\n",
            "  https://pyphi.readthedocs.io\n",
            "\n",
            "To report issues, please use the issue tracker on the GitHub repository:\n",
            "  https://github.com/wmayner/pyphi\n",
            "\n",
            "For general discussion, you are welcome to join the pyphi-users group:\n",
            "  https://groups.google.com/forum/#!forum/pyphi-users\n",
            "\n",
            "To suppress this message, either:\n",
            "  - Set `WELCOME_OFF: true` in your `pyphi_config.yml` file, or\n",
            "  - Set the environment variable PYPHI_WELCOME_OFF to any value in your shell:\n",
            "        export PYPHI_WELCOME_OFF='yes'\n",
            "\n"
          ]
        }
      ]
    },
    {
      "cell_type": "code",
      "metadata": {
        "id": "hCeHTsOdINli"
      },
      "source": [
        "def make_rule(integer):\n",
        "    binary = str(bin(integer)[2:])\n",
        "    \n",
        "    if len(binary) < 8:\n",
        "        binary = binary.zfill(8)\n",
        "    \n",
        "    def rule_function(array):\n",
        "        row1 = array\n",
        "        next_row = array.copy()\n",
        "        for x in range(1, len(row1)-1):\n",
        "                \n",
        "            # Given cell state is \"off\", then update given the neighbors like - \n",
        "            if row1[x] == 0:\n",
        "                if (row1[x-1] == 0) and (row1[x+1] == 0):\n",
        "                    next_row[x] = int(binary[7])\n",
        "\n",
        "                if (row1[x-1] == 0) and (row1[x+1] == 1):\n",
        "                    next_row[x] = int(binary[6])\n",
        "\n",
        "                if (row1[x-1] == 1) and (row1[x+1] == 0):\n",
        "                    next_row[x] = int(binary[3])\n",
        "\n",
        "                if (row1[x-1] == 1) and (row1[x+1] == 1):\n",
        "                    next_row[x] = int(binary[2])\n",
        "\n",
        "            # Given cell state is \"on\", then update given the neighbors like -   \n",
        "            else:\n",
        "                if (row1[x-1] == 0) and (row1[x+1] == 0):\n",
        "                    next_row[x] = int(binary[5])\n",
        "\n",
        "                if (row1[x-1] == 0) and (row1[x+1] == 1):\n",
        "                    next_row[x] = int(binary[4])\n",
        "\n",
        "                if (row1[x-1] == 1) and (row1[x+1] == 0):\n",
        "                    next_row[x] = int(binary[1])\n",
        "\n",
        "                if (row1[x-1] == 1) and (row1[x+1] == 1):\n",
        "                    next_row[x] = int(binary[0])\n",
        "                    \n",
        "            next_row[0] = next_row[1]\n",
        "            next_row[len(row1)-1] = next_row[len(row1)-2]\n",
        "\n",
        "        return np.array(next_row)\n",
        "\n",
        "    return rule_function"
      ],
      "execution_count": 2,
      "outputs": []
    },
    {
      "cell_type": "code",
      "metadata": {
        "id": "hK1_tVhCIRi6"
      },
      "source": [
        "# NOTE: 'timestep' variable used to denote the timestep in which the perturbation will occur, and 'n' is the number of...\n",
        "#... iterations performed by the ECA. \n",
        "\n",
        "def apply_rule(rule_function, n, perturbation_boolean, timestep, cell):\n",
        "    ini_state = initial_state(2*n + 1)\n",
        "    rv = []\n",
        "    rv.append(ini_state)\n",
        "    if perturbation_boolean == True:\n",
        "        for i in range(1, n):\n",
        "            if i == timestep:\n",
        "                timestep_update = rule_function(ini_state)\n",
        "                if timestep_update[cell] == 0:\n",
        "                    timestep_update[cell] = 1\n",
        "                else:\n",
        "                    timestep_update[cell] = 0\n",
        "                    \n",
        "                rv.append(timestep_update)\n",
        "                ini_state = timestep_update\n",
        "                \n",
        "            else:\n",
        "                timestep_update = rule_function(ini_state)\n",
        "                rv.append(timestep_update)\n",
        "                ini_state = timestep_update\n",
        "          \n",
        "    else:\n",
        "        for i in range(1, n):\n",
        "            timestep_update = rule_function(ini_state)\n",
        "            rv.append(timestep_update)\n",
        "            ini_state = timestep_update\n",
        "        \n",
        "    return np.array(rv)"
      ],
      "execution_count": 3,
      "outputs": []
    },
    {
      "cell_type": "code",
      "metadata": {
        "id": "CxjNx17oITfn"
      },
      "source": [
        "def initial_state(width):\n",
        "    initial = np.zeros((1, width), dtype=int)\n",
        "    if width % 2 == 0:\n",
        "        initial = np.insert(initial, int(width / 2), values=0, axis=1)\n",
        "        initial[0, int(width / 2)] = 1\n",
        "        return initial[0]\n",
        "    else:\n",
        "        initial[0, int(width / 2)] = 1\n",
        "        return initial[0]"
      ],
      "execution_count": 4,
      "outputs": []
    },
    {
      "cell_type": "code",
      "metadata": {
        "id": "_LeQwBwJIWQr"
      },
      "source": [
        "def TPM(rule_function, number_of_cells):\n",
        "    \n",
        "    maximum_range = 2**(number_of_cells+2)\n",
        "    TPM_matrix = []\n",
        "    \n",
        "    for i in range(maximum_range):\n",
        "        \n",
        "        binary = bin(i)[2:]\n",
        "        binary = binary.zfill(number_of_cells+2)\n",
        "        \n",
        "        state_iter_array = [int(i) for i in str(binary)]\n",
        "        next_timestep = rule_function(state_iter_array)\n",
        "        \n",
        "        \n",
        "        TPM_matrix.append(next_timestep)    \n",
        "        \n",
        "    return TPM_matrix"
      ],
      "execution_count": 5,
      "outputs": []
    },
    {
      "cell_type": "code",
      "metadata": {
        "colab": {
          "base_uri": "https://localhost:8080/"
        },
        "id": "9hMS9xpFIb_8",
        "outputId": "87c77823-85ab-4865-87c7-80104f0dc258"
      },
      "source": [
        "n = 3\n",
        "m = n+2\n",
        "cm = []\n",
        "phi_averages_list = []\n",
        "concepts_averages_list = []\n",
        "\n",
        "for i in range(m):\n",
        "    l_cm = np.zeros(m)\n",
        "    if i > 0 and i < m-1:\n",
        "        l_cm[i] = 1\n",
        "        l_cm[i-1] = 1\n",
        "        l_cm[i+1] = 1\n",
        "    cm.append(l_cm)\n",
        "\n",
        "subsystem_list = []\n",
        "\n",
        "for i in range(n):\n",
        "    subsystem_list.append(i+1)\n",
        "    \n",
        "print(subsystem_list)\n",
        "\n",
        "labels = ('$\\gamma$', 'A', 'B', 'C', '$\\delta$')"
      ],
      "execution_count": 6,
      "outputs": [
        {
          "output_type": "stream",
          "name": "stdout",
          "text": [
            "[1, 2, 3]\n"
          ]
        }
      ]
    },
    {
      "cell_type": "code",
      "metadata": {
        "colab": {
          "base_uri": "https://localhost:8080/"
        },
        "id": "qbzwPSPKXTUB",
        "outputId": "960f8605-33ea-4122-9a64-cd666ee0325c"
      },
      "source": [
        "with open(\"Saved_Concepts_List_7\", \"rb\") as pf:   # Unpickling\n",
        "    concepts_averages_list = pickle.load(pf)\n",
        "\n",
        "with open(\"Saved_Phi_List_7\", \"rb\") as pf:   # Unpickling\n",
        "    phi_averages_list = pickle.load(pf)\n",
        "    \n",
        "print(len(concepts_averages_list))\n",
        "print(len(phi_averages_list))"
      ],
      "execution_count": 7,
      "outputs": [
        {
          "output_type": "stream",
          "name": "stdout",
          "text": [
            "191\n",
            "191\n"
          ]
        }
      ]
    },
    {
      "cell_type": "code",
      "metadata": {
        "colab": {
          "base_uri": "https://localhost:8080/"
        },
        "id": "kXBzZVx5Idz-",
        "outputId": "aefc2653-9ddb-40c2-bbea-53678a9eca8d"
      },
      "source": [
        "for i in range(191, 210):\n",
        "  print('**********************************')\n",
        "  print(i)\n",
        "  rule_30 = make_rule(i)\n",
        "  TPM_matrix = TPM(rule_30, n)\n",
        "  network = pyphi.Network(TPM_matrix, cm=cm, node_labels=labels)\n",
        "  counter = 0\n",
        "  phi_sum = 0\n",
        "  concepts_sum = 0  \n",
        "\n",
        "  for j in range(2**5):\n",
        "    blah = []\n",
        "    binary = str(bin(j)[2:])\n",
        "    if len(binary) < 5:\n",
        "      binary = binary.zfill(5)\n",
        "\n",
        "    for char in binary:\n",
        "      blah.append(int(char))\n",
        "\n",
        "    state = tuple(blah)\n",
        "\n",
        "    try:\n",
        "      subsystem = pyphi.Subsystem(network, state, subsystem_list)\n",
        "      value = pyphi.compute.phi(subsystem)\n",
        "      sia = pyphi.compute.sia(subsystem)\n",
        "      concepts = len(sia.ces)\n",
        "      if value != 0:\n",
        "        phi_sum += value\n",
        "        concepts_sum += concepts\n",
        "        counter += 1\n",
        "    except:\n",
        "      continue\n",
        "  if counter == 0:\n",
        "    phi_averages_list.append(0)\n",
        "    concepts_averages_list.append(0)\n",
        "  else:\n",
        "    phi_averages_list.append(phi_sum/counter)\n",
        "    concepts_averages_list.append(concepts_sum/counter)\n",
        "\n",
        "  if i%5 == 0:\n",
        "    with open(\"Saved_Phi_List_7\", \"wb\") as pf:\n",
        "      pickle.dump(phi_averages_list, pf)\n",
        "      \n",
        "    with open(\"Saved_Concepts_List_7\", \"wb\") as fp:\n",
        "      pickle.dump(concepts_averages_list, fp)"
      ],
      "execution_count": 8,
      "outputs": [
        {
          "output_type": "stream",
          "name": "stdout",
          "text": [
            "**********************************\n",
            "191\n"
          ]
        },
        {
          "output_type": "stream",
          "name": "stderr",
          "text": [
            ""
          ]
        },
        {
          "output_type": "stream",
          "name": "stdout",
          "text": [
            "**********************************\n",
            "192\n"
          ]
        },
        {
          "output_type": "stream",
          "name": "stderr",
          "text": [
            ""
          ]
        },
        {
          "output_type": "stream",
          "name": "stdout",
          "text": [
            "**********************************\n",
            "193\n"
          ]
        },
        {
          "output_type": "stream",
          "name": "stderr",
          "text": [
            ""
          ]
        },
        {
          "output_type": "stream",
          "name": "stdout",
          "text": [
            "**********************************\n",
            "194\n"
          ]
        },
        {
          "output_type": "stream",
          "name": "stderr",
          "text": [
            ""
          ]
        },
        {
          "output_type": "stream",
          "name": "stdout",
          "text": [
            "**********************************\n",
            "195\n"
          ]
        },
        {
          "output_type": "stream",
          "name": "stderr",
          "text": [
            ""
          ]
        },
        {
          "output_type": "stream",
          "name": "stdout",
          "text": [
            "**********************************\n",
            "196\n"
          ]
        },
        {
          "output_type": "stream",
          "name": "stderr",
          "text": [
            ""
          ]
        },
        {
          "output_type": "stream",
          "name": "stdout",
          "text": [
            "**********************************\n",
            "197\n"
          ]
        },
        {
          "output_type": "stream",
          "name": "stderr",
          "text": [
            ""
          ]
        },
        {
          "output_type": "stream",
          "name": "stdout",
          "text": [
            "**********************************\n",
            "198\n"
          ]
        },
        {
          "output_type": "stream",
          "name": "stderr",
          "text": [
            ""
          ]
        },
        {
          "output_type": "stream",
          "name": "stdout",
          "text": [
            "**********************************\n",
            "199\n"
          ]
        },
        {
          "output_type": "stream",
          "name": "stderr",
          "text": [
            ""
          ]
        },
        {
          "output_type": "stream",
          "name": "stdout",
          "text": [
            "**********************************\n",
            "200\n"
          ]
        },
        {
          "output_type": "stream",
          "name": "stderr",
          "text": [
            ""
          ]
        },
        {
          "output_type": "stream",
          "name": "stdout",
          "text": [
            "**********************************\n",
            "201\n"
          ]
        },
        {
          "output_type": "stream",
          "name": "stderr",
          "text": [
            ""
          ]
        },
        {
          "output_type": "stream",
          "name": "stdout",
          "text": [
            "**********************************\n",
            "202\n"
          ]
        },
        {
          "output_type": "stream",
          "name": "stderr",
          "text": [
            ""
          ]
        },
        {
          "output_type": "stream",
          "name": "stdout",
          "text": [
            "**********************************\n",
            "203\n"
          ]
        },
        {
          "output_type": "stream",
          "name": "stderr",
          "text": [
            ""
          ]
        },
        {
          "output_type": "stream",
          "name": "stdout",
          "text": [
            "**********************************\n",
            "204\n"
          ]
        },
        {
          "output_type": "stream",
          "name": "stderr",
          "text": [
            ""
          ]
        },
        {
          "output_type": "stream",
          "name": "stdout",
          "text": [
            "**********************************\n",
            "205\n"
          ]
        },
        {
          "output_type": "stream",
          "name": "stderr",
          "text": [
            ""
          ]
        },
        {
          "output_type": "stream",
          "name": "stdout",
          "text": [
            "**********************************\n",
            "206\n"
          ]
        },
        {
          "output_type": "stream",
          "name": "stderr",
          "text": [
            ""
          ]
        },
        {
          "output_type": "stream",
          "name": "stdout",
          "text": [
            "**********************************\n",
            "207\n"
          ]
        },
        {
          "output_type": "stream",
          "name": "stderr",
          "text": [
            ""
          ]
        },
        {
          "output_type": "stream",
          "name": "stdout",
          "text": [
            "**********************************\n",
            "208\n"
          ]
        },
        {
          "output_type": "stream",
          "name": "stderr",
          "text": [
            ""
          ]
        },
        {
          "output_type": "stream",
          "name": "stdout",
          "text": [
            "**********************************\n",
            "209\n"
          ]
        },
        {
          "output_type": "stream",
          "name": "stderr",
          "text": [
            ""
          ]
        }
      ]
    },
    {
      "cell_type": "code",
      "metadata": {
        "colab": {
          "base_uri": "https://localhost:8080/"
        },
        "id": "Y-hlMIqRKdAp",
        "outputId": "445e43b2-5f0b-4586-d32b-fd66acd4f7a7"
      },
      "source": [
        "for i in range(210, 240):\n",
        "  print('**********************************')\n",
        "  print(i)\n",
        "  rule_30 = make_rule(i)\n",
        "  TPM_matrix = TPM(rule_30, n)\n",
        "  network = pyphi.Network(TPM_matrix, cm=cm, node_labels=labels)\n",
        "  counter = 0\n",
        "  phi_sum = 0\n",
        "  concepts_sum = 0  \n",
        "\n",
        "  for j in range(2**5):\n",
        "    blah = []\n",
        "    binary = str(bin(j)[2:])\n",
        "    if len(binary) < 5:\n",
        "      binary = binary.zfill(5)\n",
        "\n",
        "    for char in binary:\n",
        "      blah.append(int(char))\n",
        "\n",
        "    state = tuple(blah)\n",
        "\n",
        "    try:\n",
        "      subsystem = pyphi.Subsystem(network, state, subsystem_list)\n",
        "      value = pyphi.compute.phi(subsystem)\n",
        "      sia = pyphi.compute.sia(subsystem)\n",
        "      concepts = len(sia.ces)\n",
        "      if value != 0:\n",
        "        phi_sum += value\n",
        "        concepts_sum += concepts\n",
        "        counter += 1\n",
        "    except:\n",
        "      continue\n",
        "  if counter == 0:\n",
        "    phi_averages_list.append(0)\n",
        "    concepts_averages_list.append(0)\n",
        "  else:\n",
        "    phi_averages_list.append(phi_sum/counter)\n",
        "    concepts_averages_list.append(concepts_sum/counter)\n",
        "\n",
        "  if i%5 == 0:\n",
        "    with open(\"Saved_Phi_List_8\", \"wb\") as pf:\n",
        "      pickle.dump(phi_averages_list, pf)\n",
        "      \n",
        "    with open(\"Saved_Concepts_List_8\", \"wb\") as fp:\n",
        "      pickle.dump(concepts_averages_list, fp)"
      ],
      "execution_count": 9,
      "outputs": [
        {
          "output_type": "stream",
          "name": "stdout",
          "text": [
            "**********************************\n",
            "210\n"
          ]
        },
        {
          "output_type": "stream",
          "name": "stderr",
          "text": [
            ""
          ]
        },
        {
          "output_type": "stream",
          "name": "stdout",
          "text": [
            "**********************************\n",
            "211\n"
          ]
        },
        {
          "output_type": "stream",
          "name": "stderr",
          "text": [
            ""
          ]
        },
        {
          "output_type": "stream",
          "name": "stdout",
          "text": [
            "**********************************\n",
            "212\n"
          ]
        },
        {
          "output_type": "stream",
          "name": "stderr",
          "text": [
            ""
          ]
        },
        {
          "output_type": "stream",
          "name": "stdout",
          "text": [
            "**********************************\n",
            "213\n"
          ]
        },
        {
          "output_type": "stream",
          "name": "stderr",
          "text": [
            ""
          ]
        },
        {
          "output_type": "stream",
          "name": "stdout",
          "text": [
            "**********************************\n",
            "214\n"
          ]
        },
        {
          "output_type": "stream",
          "name": "stderr",
          "text": [
            ""
          ]
        },
        {
          "output_type": "stream",
          "name": "stdout",
          "text": [
            "**********************************\n",
            "215\n"
          ]
        },
        {
          "output_type": "stream",
          "name": "stderr",
          "text": [
            ""
          ]
        },
        {
          "output_type": "stream",
          "name": "stdout",
          "text": [
            "**********************************\n",
            "216\n"
          ]
        },
        {
          "output_type": "stream",
          "name": "stderr",
          "text": [
            ""
          ]
        },
        {
          "output_type": "stream",
          "name": "stdout",
          "text": [
            "**********************************\n",
            "217\n"
          ]
        },
        {
          "output_type": "stream",
          "name": "stderr",
          "text": [
            ""
          ]
        },
        {
          "output_type": "stream",
          "name": "stdout",
          "text": [
            "**********************************\n",
            "218\n"
          ]
        },
        {
          "output_type": "stream",
          "name": "stderr",
          "text": [
            ""
          ]
        },
        {
          "output_type": "stream",
          "name": "stdout",
          "text": [
            "**********************************\n",
            "219\n"
          ]
        },
        {
          "output_type": "stream",
          "name": "stderr",
          "text": [
            ""
          ]
        },
        {
          "output_type": "stream",
          "name": "stdout",
          "text": [
            "**********************************\n",
            "220\n"
          ]
        },
        {
          "output_type": "stream",
          "name": "stderr",
          "text": [
            ""
          ]
        },
        {
          "output_type": "stream",
          "name": "stdout",
          "text": [
            "**********************************\n",
            "221\n"
          ]
        },
        {
          "output_type": "stream",
          "name": "stderr",
          "text": [
            ""
          ]
        },
        {
          "output_type": "stream",
          "name": "stdout",
          "text": [
            "**********************************\n",
            "222\n"
          ]
        },
        {
          "output_type": "stream",
          "name": "stderr",
          "text": [
            ""
          ]
        },
        {
          "output_type": "stream",
          "name": "stdout",
          "text": [
            "**********************************\n",
            "223\n"
          ]
        },
        {
          "output_type": "stream",
          "name": "stderr",
          "text": [
            ""
          ]
        },
        {
          "output_type": "stream",
          "name": "stdout",
          "text": [
            "**********************************\n",
            "224\n"
          ]
        },
        {
          "output_type": "stream",
          "name": "stderr",
          "text": [
            ""
          ]
        },
        {
          "output_type": "stream",
          "name": "stdout",
          "text": [
            "**********************************\n",
            "225\n"
          ]
        },
        {
          "output_type": "stream",
          "name": "stderr",
          "text": [
            ""
          ]
        },
        {
          "output_type": "stream",
          "name": "stdout",
          "text": [
            "**********************************\n",
            "226\n"
          ]
        },
        {
          "output_type": "stream",
          "name": "stderr",
          "text": [
            ""
          ]
        },
        {
          "output_type": "stream",
          "name": "stdout",
          "text": [
            "**********************************\n",
            "227\n"
          ]
        },
        {
          "output_type": "stream",
          "name": "stderr",
          "text": [
            ""
          ]
        },
        {
          "output_type": "stream",
          "name": "stdout",
          "text": [
            "**********************************\n",
            "228\n"
          ]
        },
        {
          "output_type": "stream",
          "name": "stderr",
          "text": [
            ""
          ]
        },
        {
          "output_type": "stream",
          "name": "stdout",
          "text": [
            "**********************************\n",
            "229\n"
          ]
        },
        {
          "output_type": "stream",
          "name": "stderr",
          "text": [
            ""
          ]
        },
        {
          "output_type": "stream",
          "name": "stdout",
          "text": [
            "**********************************\n",
            "230\n"
          ]
        },
        {
          "output_type": "stream",
          "name": "stderr",
          "text": [
            ""
          ]
        },
        {
          "output_type": "stream",
          "name": "stdout",
          "text": [
            "**********************************\n",
            "231\n"
          ]
        },
        {
          "output_type": "stream",
          "name": "stderr",
          "text": [
            ""
          ]
        },
        {
          "output_type": "stream",
          "name": "stdout",
          "text": [
            "**********************************\n",
            "232\n"
          ]
        },
        {
          "output_type": "stream",
          "name": "stderr",
          "text": [
            ""
          ]
        },
        {
          "output_type": "stream",
          "name": "stdout",
          "text": [
            "**********************************\n",
            "233\n"
          ]
        },
        {
          "output_type": "stream",
          "name": "stderr",
          "text": [
            ""
          ]
        },
        {
          "output_type": "stream",
          "name": "stdout",
          "text": [
            "**********************************\n",
            "234\n"
          ]
        },
        {
          "output_type": "stream",
          "name": "stderr",
          "text": [
            ""
          ]
        },
        {
          "output_type": "stream",
          "name": "stdout",
          "text": [
            "**********************************\n",
            "235\n"
          ]
        },
        {
          "output_type": "stream",
          "name": "stderr",
          "text": [
            ""
          ]
        },
        {
          "output_type": "stream",
          "name": "stdout",
          "text": [
            "**********************************\n",
            "236\n"
          ]
        },
        {
          "output_type": "stream",
          "name": "stderr",
          "text": [
            ""
          ]
        },
        {
          "output_type": "stream",
          "name": "stdout",
          "text": [
            "**********************************\n",
            "237\n"
          ]
        },
        {
          "output_type": "stream",
          "name": "stderr",
          "text": [
            ""
          ]
        },
        {
          "output_type": "stream",
          "name": "stdout",
          "text": [
            "**********************************\n",
            "238\n"
          ]
        },
        {
          "output_type": "stream",
          "name": "stderr",
          "text": [
            ""
          ]
        },
        {
          "output_type": "stream",
          "name": "stdout",
          "text": [
            "**********************************\n",
            "239\n"
          ]
        },
        {
          "output_type": "stream",
          "name": "stderr",
          "text": [
            ""
          ]
        }
      ]
    },
    {
      "cell_type": "code",
      "metadata": {
        "colab": {
          "base_uri": "https://localhost:8080/"
        },
        "id": "vWmy_TUBNBSl",
        "outputId": "1c35a028-dfe9-40bb-cfe5-309609a91780"
      },
      "source": [
        "for i in range(240, 256):\n",
        "  print('**********************************')\n",
        "  print(i)\n",
        "  rule_30 = make_rule(i)\n",
        "  TPM_matrix = TPM(rule_30, n)\n",
        "  network = pyphi.Network(TPM_matrix, cm=cm, node_labels=labels)\n",
        "  counter = 0\n",
        "  phi_sum = 0\n",
        "  concepts_sum = 0  \n",
        "\n",
        "  for j in range(2**5):\n",
        "    blah = []\n",
        "    binary = str(bin(j)[2:])\n",
        "    if len(binary) < 5:\n",
        "      binary = binary.zfill(5)\n",
        "\n",
        "    for char in binary:\n",
        "      blah.append(int(char))\n",
        "\n",
        "    state = tuple(blah)\n",
        "\n",
        "    try:\n",
        "      subsystem = pyphi.Subsystem(network, state, subsystem_list)\n",
        "      value = pyphi.compute.phi(subsystem)\n",
        "      sia = pyphi.compute.sia(subsystem)\n",
        "      concepts = len(sia.ces)\n",
        "      if value != 0:\n",
        "        phi_sum += value\n",
        "        concepts_sum += concepts\n",
        "        counter += 1\n",
        "    except:\n",
        "      continue\n",
        "  if counter == 0:\n",
        "    phi_averages_list.append(0)\n",
        "    concepts_averages_list.append(0)\n",
        "  else:\n",
        "    phi_averages_list.append(phi_sum/counter)\n",
        "    concepts_averages_list.append(concepts_sum/counter)\n",
        "\n",
        "  if i%5 == 0:\n",
        "    with open(\"Saved_Phi_List_9\", \"wb\") as pf:\n",
        "      pickle.dump(phi_averages_list, pf)\n",
        "      \n",
        "    with open(\"Saved_Concepts_List_9\", \"wb\") as fp:\n",
        "      pickle.dump(concepts_averages_list, fp)"
      ],
      "execution_count": 10,
      "outputs": [
        {
          "output_type": "stream",
          "name": "stdout",
          "text": [
            "**********************************\n",
            "240\n"
          ]
        },
        {
          "output_type": "stream",
          "name": "stderr",
          "text": [
            ""
          ]
        },
        {
          "output_type": "stream",
          "name": "stdout",
          "text": [
            "**********************************\n",
            "241\n"
          ]
        },
        {
          "output_type": "stream",
          "name": "stderr",
          "text": [
            ""
          ]
        },
        {
          "output_type": "stream",
          "name": "stdout",
          "text": [
            "**********************************\n",
            "242\n"
          ]
        },
        {
          "output_type": "stream",
          "name": "stderr",
          "text": [
            ""
          ]
        },
        {
          "output_type": "stream",
          "name": "stdout",
          "text": [
            "**********************************\n",
            "243\n"
          ]
        },
        {
          "output_type": "stream",
          "name": "stderr",
          "text": [
            ""
          ]
        },
        {
          "output_type": "stream",
          "name": "stdout",
          "text": [
            "**********************************\n",
            "244\n"
          ]
        },
        {
          "output_type": "stream",
          "name": "stderr",
          "text": [
            ""
          ]
        },
        {
          "output_type": "stream",
          "name": "stdout",
          "text": [
            "**********************************\n",
            "245\n"
          ]
        },
        {
          "output_type": "stream",
          "name": "stderr",
          "text": [
            ""
          ]
        },
        {
          "output_type": "stream",
          "name": "stdout",
          "text": [
            "**********************************\n",
            "246\n"
          ]
        },
        {
          "output_type": "stream",
          "name": "stderr",
          "text": [
            ""
          ]
        },
        {
          "output_type": "stream",
          "name": "stdout",
          "text": [
            "**********************************\n",
            "247\n"
          ]
        },
        {
          "output_type": "stream",
          "name": "stderr",
          "text": [
            ""
          ]
        },
        {
          "output_type": "stream",
          "name": "stdout",
          "text": [
            "**********************************\n",
            "248\n"
          ]
        },
        {
          "output_type": "stream",
          "name": "stderr",
          "text": [
            ""
          ]
        },
        {
          "output_type": "stream",
          "name": "stdout",
          "text": [
            "**********************************\n",
            "249\n"
          ]
        },
        {
          "output_type": "stream",
          "name": "stderr",
          "text": [
            ""
          ]
        },
        {
          "output_type": "stream",
          "name": "stdout",
          "text": [
            "**********************************\n",
            "250\n"
          ]
        },
        {
          "output_type": "stream",
          "name": "stderr",
          "text": [
            ""
          ]
        },
        {
          "output_type": "stream",
          "name": "stdout",
          "text": [
            "**********************************\n",
            "251\n"
          ]
        },
        {
          "output_type": "stream",
          "name": "stderr",
          "text": [
            ""
          ]
        },
        {
          "output_type": "stream",
          "name": "stdout",
          "text": [
            "**********************************\n",
            "252\n"
          ]
        },
        {
          "output_type": "stream",
          "name": "stderr",
          "text": [
            ""
          ]
        },
        {
          "output_type": "stream",
          "name": "stdout",
          "text": [
            "**********************************\n",
            "253\n"
          ]
        },
        {
          "output_type": "stream",
          "name": "stderr",
          "text": [
            ""
          ]
        },
        {
          "output_type": "stream",
          "name": "stdout",
          "text": [
            "**********************************\n",
            "254\n"
          ]
        },
        {
          "output_type": "stream",
          "name": "stderr",
          "text": [
            ""
          ]
        },
        {
          "output_type": "stream",
          "name": "stdout",
          "text": [
            "**********************************\n",
            "255\n"
          ]
        },
        {
          "output_type": "stream",
          "name": "stderr",
          "text": [
            ""
          ]
        }
      ]
    },
    {
      "cell_type": "code",
      "metadata": {
        "colab": {
          "base_uri": "https://localhost:8080/"
        },
        "id": "TXT-8RDDTLpD",
        "outputId": "a47e4c3e-6841-40dd-d10d-cc0204c706f2"
      },
      "source": [
        "print(len(concepts_averages_list))\n",
        "print(len(phi_averages_list))"
      ],
      "execution_count": 14,
      "outputs": [
        {
          "output_type": "stream",
          "name": "stdout",
          "text": [
            "256\n",
            "256\n"
          ]
        }
      ]
    },
    {
      "cell_type": "code",
      "metadata": {
        "colab": {
          "base_uri": "https://localhost:8080/",
          "height": 653
        },
        "id": "tbPKBxq9NFWZ",
        "outputId": "23c6a1ae-deb7-4146-80df-fefab5bee2b5"
      },
      "source": [
        "concepts_averages_list = concepts_averages_list[0:256]\n",
        "phi_averages_list = phi_averages_list[0:256]\n",
        "\n",
        "\n",
        "plt.figure(figsize=(14,10))\n",
        "plt.ylabel('Average # of Concepts', fontsize = 18)\n",
        "plt.xlabel('Average $\\phi^{Max}$', fontsize = 18)\n",
        "plt.xticks(fontsize = 14)\n",
        "plt.yticks(fontsize = 14)\n",
        "plt.title('Average # of Concepts vs. Average $\\phi^{Max}$ for All ECA', fontsize = 22)\n",
        "plt.plot(phi_averages_list, concepts_averages_list, 'bo', label = \"Various ECAs\")\n",
        "plt.plot(phi_averages_list[30], concepts_averages_list[30], 'ro', markersize = 15, label = 'ECA Rule 30')\n",
        "plt.plot(phi_averages_list[110], concepts_averages_list[110], 'go', markersize = 15, label = 'ECA Rule 110')\n",
        "plt.plot(phi_averages_list[73], concepts_averages_list[73], 'mo', markersize = 15, label = 'ECA Rule 73')\n",
        "plt.plot(phi_averages_list[105], concepts_averages_list[105], 'ko', markersize = 15, label = 'ECA Rule 105')\n",
        "plt.plot(phi_averages_list[90], concepts_averages_list[90], 'kv', markersize = 15, label = 'ECA Rule 90')\n",
        "plt.plot(phi_averages_list[75], concepts_averages_list[75], 'kD', markersize = 6, label = 'ECA Rule 75')\n",
        "plt.legend(fontsize = 18)\n",
        "plt.grid()"
      ],
      "execution_count": 134,
      "outputs": [
        {
          "output_type": "display_data",
          "data": {
            "image/png": "[encoded data removed]",
            "text/plain": [
              "<Figure size 1008x720 with 1 Axes>"
            ]
          },
          "metadata": {
            "needs_background": "light"
          }
        }
      ]
    },
    {
      "cell_type": "code",
      "metadata": {
        "id": "WdjVF2Bxwtcu"
      },
      "source": [
        "def make_rule_V2(integer):\n",
        "    binary = str(bin(integer)[2:])\n",
        "    \n",
        "    if len(binary) < 32:\n",
        "        binary = binary.zfill(32)\n",
        "    \n",
        "    def rule_function_V2(array):\n",
        "        row1 = array\n",
        "        next_row = array.copy()\n",
        "        for x in range(2, len(row1)-2):\n",
        "                \n",
        "            # Given cell state is \"off\", then update given the neighbors like - \n",
        "            if row1[x] == 0:\n",
        "                \n",
        "                if (row1[x-2] == 0) and (row1[x-1] == 0) and (row1[x+1] == 0) and (row1[x+2] == 0):\n",
        "                    next_row[x] = int(binary[0])\n",
        "                if (row1[x-2] == 1) and (row1[x-1] == 1) and (row1[x+1] == 1) and (row1[x+2] == 1):\n",
        "                    next_row[x] = int(binary[1])\n",
        "    \n",
        "                    \n",
        "                    \n",
        "                if (row1[x-2] == 0) and (row1[x-1] == 0) and (row1[x+1] == 0) and (row1[x+2] == 1):\n",
        "                    next_row[x] = int(binary[2])\n",
        "                \n",
        "                if (row1[x-2] == 0) and (row1[x-1] == 0) and (row1[x+1] == 1) and (row1[x+2] == 0):\n",
        "                    next_row[x] = int(binary[3])\n",
        "                \n",
        "                if (row1[x-2] == 0) and (row1[x-1] == 1) and (row1[x+1] == 0) and (row1[x+2] == 0):\n",
        "                    next_row[x] = int(binary[4])\n",
        "                    \n",
        "                if (row1[x-2] == 1) and (row1[x-1] == 0) and (row1[x+1] == 0) and (row1[x+2] == 0):\n",
        "                    next_row[x] = int(binary[5])\n",
        "                    \n",
        "                \n",
        "                \n",
        "                if (row1[x-2] == 1) and (row1[x-1] == 0) and (row1[x+1] == 0) and (row1[x+2] == 1):\n",
        "                    next_row[x] = int(binary[6])\n",
        "                    \n",
        "                if (row1[x-2] == 1) and (row1[x-1] == 0) and (row1[x+1] == 1) and (row1[x+2] == 0):\n",
        "                    next_row[x] = int(binary[7])\n",
        "\n",
        "                if (row1[x-2] == 0) and (row1[x-1] == 1) and (row1[x+1] == 0) and (row1[x+2] == 1):\n",
        "                    next_row[x] = int(binary[8])\n",
        "                    \n",
        "                if (row1[x-2] == 0) and (row1[x-1] == 1) and (row1[x+1] == 1) and (row1[x+2] == 0):\n",
        "                    next_row[x] = int(binary[9])\n",
        "                    \n",
        "                if (row1[x-2] == 1) and (row1[x-1] == 1) and (row1[x+1] == 0) and (row1[x+2] == 0):\n",
        "                    next_row[x] = int(binary[10])\n",
        "                    \n",
        "                if (row1[x-2] == 0) and (row1[x-1] == 0) and (row1[x+1] == 1) and (row1[x+2] == 1):\n",
        "                    next_row[x] = int(binary[11])\n",
        "                    \n",
        "                    \n",
        "                    \n",
        "                if (row1[x-2] == 1) and (row1[x-1] == 1) and (row1[x+1] == 1) and (row1[x+2] == 0):\n",
        "                    next_row[x] = int(binary[12])\n",
        "                \n",
        "                if (row1[x-2] == 1) and (row1[x-1] == 1) and (row1[x+1] == 0) and (row1[x+2] == 1):\n",
        "                    next_row[x] = int(binary[13])\n",
        "                \n",
        "                if (row1[x-2] == 1) and (row1[x-1] == 0) and (row1[x+1] == 1) and (row1[x+2] == 1):\n",
        "                    next_row[x] = int(binary[14])\n",
        "                    \n",
        "                if (row1[x-2] == 0) and (row1[x-1] == 1) and (row1[x+1] == 1) and (row1[x+2] == 1):\n",
        "                    next_row[x] = int(binary[15])\n",
        "            \n",
        "\n",
        "            # Given cell state is \"on\", then update given the neighbors like -   \n",
        "            else:\n",
        "                \n",
        "                if (row1[x-2] == 0) and (row1[x-1] == 0) and (row1[x+1] == 0) and (row1[x+2] == 0):\n",
        "                    next_row[x] = int(binary[16])\n",
        "                if (row1[x-2] == 1) and (row1[x-1] == 1) and (row1[x+1] == 1) and (row1[x+2] == 1):\n",
        "                    next_row[x] = int(binary[17])\n",
        "    \n",
        "                    \n",
        "                    \n",
        "                if (row1[x-2] == 0) and (row1[x-1] == 0) and (row1[x+1] == 0) and (row1[x+2] == 1):\n",
        "                    next_row[x] = int(binary[18])\n",
        "                \n",
        "                if (row1[x-2] == 0) and (row1[x-1] == 0) and (row1[x+1] == 1) and (row1[x+2] == 0):\n",
        "                    next_row[x] = int(binary[19])\n",
        "                \n",
        "                if (row1[x-2] == 0) and (row1[x-1] == 1) and (row1[x+1] == 0) and (row1[x+2] == 0):\n",
        "                    next_row[x] = int(binary[20])\n",
        "                    \n",
        "                if (row1[x-2] == 1) and (row1[x-1] == 0) and (row1[x+1] == 0) and (row1[x+2] == 0):\n",
        "                    next_row[x] = int(binary[21])\n",
        "                    \n",
        "                \n",
        "                \n",
        "                if (row1[x-2] == 1) and (row1[x-1] == 0) and (row1[x+1] == 0) and (row1[x+2] == 1):\n",
        "                    next_row[x] = int(binary[22])\n",
        "                    \n",
        "                if (row1[x-2] == 1) and (row1[x-1] == 0) and (row1[x+1] == 1) and (row1[x+2] == 0):\n",
        "                    next_row[x] = int(binary[23])\n",
        "\n",
        "                if (row1[x-2] == 0) and (row1[x-1] == 1) and (row1[x+1] == 0) and (row1[x+2] == 1):\n",
        "                    next_row[x] = int(binary[24])\n",
        "                    \n",
        "                if (row1[x-2] == 0) and (row1[x-1] == 1) and (row1[x+1] == 1) and (row1[x+2] == 0):\n",
        "                    next_row[x] = int(binary[25])\n",
        "                    \n",
        "                if (row1[x-2] == 1) and (row1[x-1] == 1) and (row1[x+1] == 0) and (row1[x+2] == 0):\n",
        "                    next_row[x] = int(binary[26])\n",
        "                    \n",
        "                if (row1[x-2] == 0) and (row1[x-1] == 0) and (row1[x+1] == 1) and (row1[x+2] == 1):\n",
        "                    next_row[x] = int(binary[27])\n",
        "                    \n",
        "                    \n",
        "                    \n",
        "                if (row1[x-2] == 1) and (row1[x-1] == 1) and (row1[x+1] == 1) and (row1[x+2] == 0):\n",
        "                    next_row[x] = int(binary[28])\n",
        "                \n",
        "                if (row1[x-2] == 1) and (row1[x-1] == 1) and (row1[x+1] == 0) and (row1[x+2] == 1):\n",
        "                    next_row[x] = int(binary[29])\n",
        "                \n",
        "                if (row1[x-2] == 1) and (row1[x-1] == 0) and (row1[x+1] == 1) and (row1[x+2] == 1):\n",
        "                    next_row[x] = int(binary[30])\n",
        "                    \n",
        "                if (row1[x-2] == 0) and (row1[x-1] == 1) and (row1[x+1] == 1) and (row1[x+2] == 1):\n",
        "                    next_row[x] = int(binary[31])\n",
        "\n",
        "                    \n",
        "            next_row[0] = next_row[2]\n",
        "            next_row[1] = next_row[2]\n",
        "            next_row[len(row1)-1] = next_row[len(row1)-3]\n",
        "            next_row[len(row1)-2] = next_row[len(row1)-3]\n",
        "            \n",
        "\n",
        "        return np.array(next_row)\n",
        "\n",
        "    return rule_function_V2"
      ],
      "execution_count": 117,
      "outputs": []
    },
    {
      "cell_type": "code",
      "metadata": {
        "colab": {
          "base_uri": "https://localhost:8080/",
          "height": 318
        },
        "id": "1j5jY6nRw5BU",
        "outputId": "b1fc24a2-3262-491d-91d0-737c09d789a3"
      },
      "source": [
        "rule_function_check = make_rule_V2(2294967296)\n",
        "\n",
        "plt.imshow(apply_rule_V2(rule_function_check, 300, False, 0, 0), cmap='binary', aspect='auto')\n",
        "plt.title('NNN-ECA Rule 2294967296', fontsize=15)\n",
        "plt.ylabel(\"Timestep $t$\", fontsize=12)\n",
        "plt.xlabel(\"Cell Index\", fontsize=12)"
      ],
      "execution_count": 118,
      "outputs": [
        {
          "output_type": "execute_result",
          "data": {
            "text/plain": [
              "Text(0.5, 0, 'Cell Index')"
            ]
          },
          "metadata": {},
          "execution_count": 118
        },
        {
          "output_type": "display_data",
          "data": {
            "image/png": "[encoded data removed]",
            "text/plain": [
              "<Figure size 432x288 with 1 Axes>"
            ]
          },
          "metadata": {
            "needs_background": "light"
          }
        }
      ]
    },
    {
      "cell_type": "code",
      "metadata": {
        "id": "ZzH7c0Y-xQbG"
      },
      "source": [
        "def TPM_V2(rule_function, number_of_cells):\n",
        "    \n",
        "    maximum_range = 2**(number_of_cells+2)\n",
        "    TPM_matrix = []\n",
        "    \n",
        "    for i in range(maximum_range):\n",
        "        \n",
        "        binary = bin(i)[2:]\n",
        "        binary = binary.zfill(number_of_cells+2)\n",
        "        \n",
        "        state_iter_array = [int(i) for i in str(binary)]\n",
        "        next_timestep = rule_function(state_iter_array)\n",
        "        \n",
        "        \n",
        "        TPM_matrix.append(next_timestep)    \n",
        "        \n",
        "    return TPM_matrix"
      ],
      "execution_count": 119,
      "outputs": []
    },
    {
      "cell_type": "code",
      "metadata": {
        "colab": {
          "base_uri": "https://localhost:8080/"
        },
        "id": "54xrmU9Ow7zR",
        "outputId": "3d2dd105-7bd9-4656-cd7f-7bc1d6ebfa27"
      },
      "source": [
        "n = 5\n",
        "rule_30 = make_rule_V2(2294967296)\n",
        "TPM_matrix = TPM_V2(rule_30, n)\n",
        "\n",
        "m = n+2\n",
        "cm = []\n",
        "\n",
        "for i in range(m):\n",
        "    \n",
        "    l_cm = np.zeros(m)\n",
        "    \n",
        "    if i > 1 and i < m-2:\n",
        "        \n",
        "        l_cm[i] = 1\n",
        "        l_cm[i-1] = 1\n",
        "        l_cm[i-2] = 1\n",
        "        l_cm[i+1] = 1\n",
        "        l_cm[i+2] = 1\n",
        "        \n",
        "    cm.append(l_cm)\n",
        "\n",
        "print(cm)\n",
        "\n",
        "subsystem_list = []\n",
        "\n",
        "for i in range(2, n):\n",
        "    subsystem_list.append(i)\n",
        "    \n",
        "print(subsystem_list)\n",
        "\n",
        "labels = ('$\\gamma$', '$theta$', 'A', 'B', 'C', '$eta$', '$\\delta$')\n",
        "\n",
        "network = pyphi.Network(TPM_matrix, cm=cm, node_labels=labels)"
      ],
      "execution_count": 120,
      "outputs": [
        {
          "output_type": "stream",
          "name": "stdout",
          "text": [
            "[array([0., 0., 0., 0., 0., 0., 0.]), array([0., 0., 0., 0., 0., 0., 0.]), array([1., 1., 1., 1., 1., 0., 0.]), array([0., 1., 1., 1., 1., 1., 0.]), array([0., 0., 1., 1., 1., 1., 1.]), array([0., 0., 0., 0., 0., 0., 0.]), array([0., 0., 0., 0., 0., 0., 0.])]\n",
            "[2, 3, 4]\n"
          ]
        }
      ]
    },
    {
      "cell_type": "code",
      "metadata": {
        "colab": {
          "base_uri": "https://localhost:8080/"
        },
        "id": "ic37iMQ3xc6O",
        "outputId": "1b67d431-2927-4cdf-f182-45b5658ba6b8"
      },
      "source": [
        "\n",
        "TPM_matrix = TPM_V2(rule_30, n)\n",
        "network = pyphi.Network(TPM_matrix, cm=cm, node_labels=labels)\n",
        "counter = 0\n",
        "phi_sum = 0\n",
        "concepts_sum = 0  \n",
        "\n",
        "for j in range(2**7):\n",
        "  blah = []\n",
        "  binary = str(bin(j)[2:])\n",
        "  if len(binary) < 7:\n",
        "    binary = binary.zfill(7)\n",
        "\n",
        "  for char in binary:\n",
        "    blah.append(int(char))\n",
        "\n",
        "  state = tuple(blah)\n",
        "\n",
        "  try:\n",
        "    subsystem = pyphi.Subsystem(network, state, subsystem_list)\n",
        "    value = pyphi.compute.phi(subsystem)\n",
        "    sia = pyphi.compute.sia(subsystem)\n",
        "    concepts = len(sia.ces)\n",
        "    if value != 0:\n",
        "      phi_sum += value\n",
        "      concepts_sum += concepts\n",
        "      counter += 1\n",
        "  except:\n",
        "    continue\n",
        "if counter == 0:\n",
        "  phi_averages_list.append(0)\n",
        "  concepts_averages_list.append(0)\n",
        "else:\n",
        "  phi_averages_list.append(phi_sum/counter)\n",
        "  concepts_averages_list.append(concepts_sum/counter)"
      ],
      "execution_count": 121,
      "outputs": [
        {
          "output_type": "stream",
          "name": "stderr",
          "text": [
            ""
          ]
        }
      ]
    },
    {
      "cell_type": "code",
      "metadata": {
        "colab": {
          "base_uri": "https://localhost:8080/",
          "height": 671
        },
        "id": "DqAm03dL6ZSa",
        "outputId": "95be542c-9c8d-4315-f654-49c59b178dbd"
      },
      "source": [
        "plt.figure(figsize=(14,10))\n",
        "plt.ylabel('Average # of Concepts', fontsize = 18)\n",
        "plt.xlabel('Average $\\phi^{Max}$', fontsize = 18)\n",
        "plt.xticks(fontsize = 14)\n",
        "plt.yticks(fontsize = 14)\n",
        "plt.title('Average # of Concepts vs. Average $\\phi^{Max}$ for All ECA', fontsize = 22)\n",
        "plt.plot(phi_averages_list, concepts_averages_list, 'bo', label = \"Various ECAs\")\n",
        "plt.plot(phi_averages_list[30], concepts_averages_list[30], 'ro', markersize = 15, label = 'ECA Rule 30')\n",
        "plt.plot(phi_averages_list[110], concepts_averages_list[110], 'go', markersize = 15, label = 'ECA Rule 110')\n",
        "plt.plot(phi_averages_list[73], concepts_averages_list[73], 'mo', markersize = 15, label = 'ECA Rule 73')\n",
        "plt.plot(phi_averages_list[105], concepts_averages_list[105], 'ko', markersize = 15, label = 'ECA Rule 105')\n",
        "plt.plot(phi_averages_list[90], concepts_averages_list[90], 'kv', markersize = 15, label = 'ECA Rule 90')\n",
        "plt.plot(phi_averages_list[75], concepts_averages_list[75], 'kD', markersize = 6, label = 'ECA Rule 75')\n",
        "plt.plot(phi_averages_list[-1], concepts_averages_list[-1], 'cD', markersize = 15, label = 'NNN-ECA Rule 2294967296')\n",
        "plt.legend(fontsize = 18)"
      ],
      "execution_count": 125,
      "outputs": [
        {
          "output_type": "execute_result",
          "data": {
            "text/plain": [
              "<matplotlib.legend.Legend at 0x7f7f4a66d510>"
            ]
          },
          "metadata": {},
          "execution_count": 125
        },
        {
          "output_type": "display_data",
          "data": {
            "image/png": "[encoded data removed]",
            "text/plain": [
              "<Figure size 1008x720 with 1 Axes>"
            ]
          },
          "metadata": {
            "needs_background": "light"
          }
        }
      ]
    },
    {
      "cell_type": "code",
      "metadata": {
        "colab": {
          "base_uri": "https://localhost:8080/"
        },
        "id": "dY3T5Ij161uh",
        "outputId": "873b4a70-deca-47da-a538-fc50c7e84389"
      },
      "source": [
        "n = 5\n",
        "rule_30 = make_rule_V2(331267296)\n",
        "TPM_matrix = TPM_V2(rule_30, n)\n",
        "\n",
        "m = n+2\n",
        "cm = []\n",
        "\n",
        "for i in range(m):\n",
        "    \n",
        "    l_cm = np.zeros(m)\n",
        "    \n",
        "    if i > 1 and i < m-2:\n",
        "        \n",
        "        l_cm[i] = 1\n",
        "        l_cm[i-1] = 1\n",
        "        l_cm[i-2] = 1\n",
        "        l_cm[i+1] = 1\n",
        "        l_cm[i+2] = 1\n",
        "        \n",
        "    cm.append(l_cm)\n",
        "\n",
        "print(cm)\n",
        "\n",
        "subsystem_list = []\n",
        "\n",
        "for i in range(2, n):\n",
        "    subsystem_list.append(i)\n",
        "    \n",
        "print(subsystem_list)\n",
        "\n",
        "labels = ('$\\gamma$', '$theta$', 'A', 'B', 'C', '$eta$', '$\\delta$')\n",
        "\n",
        "network = pyphi.Network(TPM_matrix, cm=cm, node_labels=labels)"
      ],
      "execution_count": 126,
      "outputs": [
        {
          "output_type": "stream",
          "name": "stdout",
          "text": [
            "[array([0., 0., 0., 0., 0., 0., 0.]), array([0., 0., 0., 0., 0., 0., 0.]), array([1., 1., 1., 1., 1., 0., 0.]), array([0., 1., 1., 1., 1., 1., 0.]), array([0., 0., 1., 1., 1., 1., 1.]), array([0., 0., 0., 0., 0., 0., 0.]), array([0., 0., 0., 0., 0., 0., 0.])]\n",
            "[2, 3, 4]\n"
          ]
        }
      ]
    },
    {
      "cell_type": "code",
      "metadata": {
        "colab": {
          "base_uri": "https://localhost:8080/"
        },
        "id": "A8MHlgCT7FUS",
        "outputId": "8826e4d1-6b60-4fad-870b-8a1a8a356a1d"
      },
      "source": [
        "\n",
        "TPM_matrix = TPM_V2(rule_30, n)\n",
        "network = pyphi.Network(TPM_matrix, cm=cm, node_labels=labels)\n",
        "counter = 0\n",
        "phi_sum = 0\n",
        "concepts_sum = 0  \n",
        "\n",
        "for j in range(2**7):\n",
        "  blah = []\n",
        "  binary = str(bin(j)[2:])\n",
        "  if len(binary) < 7:\n",
        "    binary = binary.zfill(7)\n",
        "\n",
        "  for char in binary:\n",
        "    blah.append(int(char))\n",
        "\n",
        "  state = tuple(blah)\n",
        "\n",
        "  try:\n",
        "    subsystem = pyphi.Subsystem(network, state, subsystem_list)\n",
        "    value = pyphi.compute.phi(subsystem)\n",
        "    sia = pyphi.compute.sia(subsystem)\n",
        "    concepts = len(sia.ces)\n",
        "    if value != 0:\n",
        "      phi_sum += value\n",
        "      concepts_sum += concepts\n",
        "      counter += 1\n",
        "  except:\n",
        "    continue\n",
        "if counter == 0:\n",
        "  phi_averages_list.append(0)\n",
        "  concepts_averages_list.append(0)\n",
        "else:\n",
        "  phi_averages_list.append(phi_sum/counter)\n",
        "  concepts_averages_list.append(concepts_sum/counter)"
      ],
      "execution_count": 127,
      "outputs": [
        {
          "output_type": "stream",
          "name": "stderr",
          "text": [
            ""
          ]
        }
      ]
    },
    {
      "cell_type": "code",
      "metadata": {
        "colab": {
          "base_uri": "https://localhost:8080/",
          "height": 653
        },
        "id": "CAR9VjbP_QE6",
        "outputId": "a092d38c-868d-4443-aa5d-9b553bc33ad0"
      },
      "source": [
        "plt.figure(figsize=(14,10))\n",
        "plt.ylabel('Average # of Concepts', fontsize = 18)\n",
        "plt.xlabel('Average $\\phi^{Max}$', fontsize = 18)\n",
        "plt.xticks(fontsize = 14)\n",
        "plt.yticks(fontsize = 14)\n",
        "plt.title('Average # of Concepts vs. Average $\\phi^{Max}$ for All ECA (Including two NNN-ECA)', fontsize = 22)\n",
        "plt.plot(phi_averages_list, concepts_averages_list, 'bo', label = \"Various ECAs\")\n",
        "plt.plot(phi_averages_list[30], concepts_averages_list[30], 'ro', markersize = 15, label = 'ECA Rule 30')\n",
        "plt.plot(phi_averages_list[110], concepts_averages_list[110], 'go', markersize = 15, label = 'ECA Rule 110')\n",
        "plt.plot(phi_averages_list[73], concepts_averages_list[73], 'mo', markersize = 15, label = 'ECA Rule 73')\n",
        "plt.plot(phi_averages_list[105], concepts_averages_list[105], 'ko', markersize = 15, label = 'ECA Rule 105')\n",
        "plt.plot(phi_averages_list[90], concepts_averages_list[90], 'kv', markersize = 15, label = 'ECA Rule 90')\n",
        "plt.plot(phi_averages_list[75], concepts_averages_list[75], 'kD', markersize = 6, label = 'ECA Rule 75')\n",
        "plt.plot(phi_averages_list[-2], concepts_averages_list[-2], 'cD', markersize = 15, label = 'NNN-ECA Rule 2294967296')\n",
        "plt.plot(phi_averages_list[-1], concepts_averages_list[-1], 'cv', markersize = 15, label = 'NNN-ECA Rule 331267296')\n",
        "plt.legend(fontsize = 18)\n",
        "plt.grid()"
      ],
      "execution_count": 131,
      "outputs": [
        {
          "output_type": "display_data",
          "data": {
            "image/png": "[encoded data removed]",
            "text/plain": [
              "<Figure size 1008x720 with 1 Axes>"
            ]
          },
          "metadata": {
            "needs_background": "light"
          }
        }
      ]
    }
  ]
}